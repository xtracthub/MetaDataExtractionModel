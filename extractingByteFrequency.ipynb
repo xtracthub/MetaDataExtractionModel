{
 "metadata": {
  "language_info": {
   "codemirror_mode": {
    "name": "ipython",
    "version": 3
   },
   "file_extension": ".py",
   "mimetype": "text/x-python",
   "name": "python",
   "nbconvert_exporter": "python",
   "pygments_lexer": "ipython3",
   "version": "3.8.5"
  },
  "orig_nbformat": 2,
  "kernelspec": {
   "name": "python3",
   "display_name": "Python 3.8.5 64-bit"
  },
  "metadata": {
   "interpreter": {
    "hash": "916dbcbb3f70747c44a77c7bcd40155683ae19c65e1c03b4aa3499c5328201f1"
   }
  },
  "interpreter": {
   "hash": "916dbcbb3f70747c44a77c7bcd40155683ae19c65e1c03b4aa3499c5328201f1"
  }
 },
 "nbformat": 4,
 "nbformat_minor": 2,
 "cells": [
  {
   "source": [
    "# Experiment with the files to properly extract metadata from the files"
   ],
   "cell_type": "markdown",
   "metadata": {}
  },
  {
   "cell_type": "code",
   "execution_count": 1,
   "metadata": {},
   "outputs": [],
   "source": [
    "import matplotlib.pyplot as plt\n",
    "from collections import Counter\n",
    "import binascii\n",
    "import os\n",
    "from pathlib import Path\n",
    "import numpy as np\n",
    "import time\n",
    "import json"
   ]
  },
  {
   "cell_type": "code",
   "execution_count": 2,
   "metadata": {},
   "outputs": [
    {
     "output_type": "stream",
     "name": "stdout",
     "text": [
      "Metadata associated with the file: \nFile extension:  .csv\nFile name:  CDIACPub8/PX100E\nFile path:  /home/matthewchen/MetaDataExtractionModel/CDIACPub8/PX100E.csv\nFile size is:  706892 bytes\nParent Directory:  /home/matthewchen/MetaDataExtractionModel/CDIACPub8\nHere is a list of the 10 most frequent bytes: \n0x2c: 122889\n0x30: 91654\n0x39: 90350\n0x2e: 79622\n0x31: 56593\n0x33: 46551\n0x32: 40035\n0x37: 31256\n0x34: 29870\n0x38: 27688\n[44. 48. 57. 46. 49. 51. 50. 55. 52. 56.]\n"
     ]
    },
    {
     "output_type": "display_data",
     "data": {
      "text/plain": "<Figure size 432x288 with 1 Axes>",
      "image/svg+xml": "<?xml version=\"1.0\" encoding=\"utf-8\" standalone=\"no\"?>\n<!DOCTYPE svg PUBLIC \"-//W3C//DTD SVG 1.1//EN\"\n  \"http://www.w3.org/Graphics/SVG/1.1/DTD/svg11.dtd\">\n<svg height=\"248.518125pt\" version=\"1.1\" viewBox=\"0 0 372.103125 248.518125\" width=\"372.103125pt\" xmlns=\"http://www.w3.org/2000/svg\" xmlns:xlink=\"http://www.w3.org/1999/xlink\">\n <metadata>\n  <rdf:RDF xmlns:cc=\"http://creativecommons.org/ns#\" xmlns:dc=\"http://purl.org/dc/elements/1.1/\" xmlns:rdf=\"http://www.w3.org/1999/02/22-rdf-syntax-ns#\">\n   <cc:Work>\n    <dc:type rdf:resource=\"http://purl.org/dc/dcmitype/StillImage\"/>\n    <dc:date>2021-06-07T16:03:43.691225</dc:date>\n    <dc:format>image/svg+xml</dc:format>\n    <dc:creator>\n     <cc:Agent>\n      <dc:title>Matplotlib v3.4.2, https://matplotlib.org/</dc:title>\n     </cc:Agent>\n    </dc:creator>\n   </cc:Work>\n  </rdf:RDF>\n </metadata>\n <defs>\n  <style type=\"text/css\">*{stroke-linecap:butt;stroke-linejoin:round;}</style>\n </defs>\n <g id=\"figure_1\">\n  <g id=\"patch_1\">\n   <path d=\"M 0 248.518125 \nL 372.103125 248.518125 \nL 372.103125 0 \nL 0 0 \nz\n\"/>\n  </g>\n  <g id=\"axes_1\">\n   <g id=\"patch_2\">\n    <path d=\"M 30.103125 224.64 \nL 364.903125 224.64 \nL 364.903125 7.2 \nL 30.103125 7.2 \nz\n\"/>\n   </g>\n   <g id=\"patch_3\">\n    <path clip-path=\"url(#pb14d55c703)\" d=\"M 45.321307 224.64 \nL 70.167318 224.64 \nL 70.167318 17.554286 \nL 45.321307 17.554286 \nz\n\" style=\"fill:#8dd3c7;\"/>\n   </g>\n   <g id=\"patch_4\">\n    <path clip-path=\"url(#pb14d55c703)\" d=\"M 76.378821 224.64 \nL 101.224832 224.64 \nL 101.224832 70.189772 \nL 76.378821 70.189772 \nz\n\" style=\"fill:#8dd3c7;\"/>\n   </g>\n   <g id=\"patch_5\">\n    <path clip-path=\"url(#pb14d55c703)\" d=\"M 107.436335 224.64 \nL 132.282346 224.64 \nL 132.282346 72.3872 \nL 107.436335 72.3872 \nz\n\" style=\"fill:#8dd3c7;\"/>\n   </g>\n   <g id=\"patch_6\">\n    <path clip-path=\"url(#pb14d55c703)\" d=\"M 138.493849 224.64 \nL 163.33986 224.64 \nL 163.33986 90.46543 \nL 138.493849 90.46543 \nz\n\" style=\"fill:#8dd3c7;\"/>\n   </g>\n   <g id=\"patch_7\">\n    <path clip-path=\"url(#pb14d55c703)\" d=\"M 169.551362 224.64 \nL 194.397374 224.64 \nL 194.397374 129.272621 \nL 169.551362 129.272621 \nz\n\" style=\"fill:#8dd3c7;\"/>\n   </g>\n   <g id=\"patch_8\">\n    <path clip-path=\"url(#pb14d55c703)\" d=\"M 200.608876 224.64 \nL 225.454888 224.64 \nL 225.454888 146.194841 \nL 200.608876 146.194841 \nz\n\" style=\"fill:#8dd3c7;\"/>\n   </g>\n   <g id=\"patch_9\">\n    <path clip-path=\"url(#pb14d55c703)\" d=\"M 231.66639 224.64 \nL 256.512401 224.64 \nL 256.512401 157.175243 \nL 231.66639 157.175243 \nz\n\" style=\"fill:#8dd3c7;\"/>\n   </g>\n   <g id=\"patch_10\">\n    <path clip-path=\"url(#pb14d55c703)\" d=\"M 262.723904 224.64 \nL 287.569915 224.64 \nL 287.569915 171.969126 \nL 262.723904 171.969126 \nz\n\" style=\"fill:#8dd3c7;\"/>\n   </g>\n   <g id=\"patch_11\">\n    <path clip-path=\"url(#pb14d55c703)\" d=\"M 293.781418 224.64 \nL 318.627429 224.64 \nL 318.627429 174.304736 \nL 293.781418 174.304736 \nz\n\" style=\"fill:#8dd3c7;\"/>\n   </g>\n   <g id=\"patch_12\">\n    <path clip-path=\"url(#pb14d55c703)\" d=\"M 324.838932 224.64 \nL 349.684943 224.64 \nL 349.684943 177.981721 \nL 324.838932 177.981721 \nz\n\" style=\"fill:#8dd3c7;\"/>\n   </g>\n   <g id=\"matplotlib.axis_1\">\n    <g id=\"xtick_1\">\n     <g id=\"line2d_1\">\n      <defs>\n       <path d=\"M 0 0 \nL 0 3.5 \n\" id=\"m7aa5499255\" style=\"stroke:#ffffff;stroke-width:0.8;\"/>\n      </defs>\n      <g>\n       <use style=\"fill:#ffffff;stroke:#ffffff;stroke-width:0.8;\" x=\"57.744312\" xlink:href=\"#m7aa5499255\" y=\"224.64\"/>\n      </g>\n     </g>\n     <g id=\"text_1\">\n      <!-- 44.0 -->\n      <g style=\"fill:#ffffff;\" transform=\"translate(46.6115 239.238437)scale(0.1 -0.1)\">\n       <defs>\n        <path d=\"M 2419 4116 \nL 825 1625 \nL 2419 1625 \nL 2419 4116 \nz\nM 2253 4666 \nL 3047 4666 \nL 3047 1625 \nL 3713 1625 \nL 3713 1100 \nL 3047 1100 \nL 3047 0 \nL 2419 0 \nL 2419 1100 \nL 313 1100 \nL 313 1709 \nL 2253 4666 \nz\n\" id=\"DejaVuSans-34\" transform=\"scale(0.015625)\"/>\n        <path d=\"M 684 794 \nL 1344 794 \nL 1344 0 \nL 684 0 \nL 684 794 \nz\n\" id=\"DejaVuSans-2e\" transform=\"scale(0.015625)\"/>\n        <path d=\"M 2034 4250 \nQ 1547 4250 1301 3770 \nQ 1056 3291 1056 2328 \nQ 1056 1369 1301 889 \nQ 1547 409 2034 409 \nQ 2525 409 2770 889 \nQ 3016 1369 3016 2328 \nQ 3016 3291 2770 3770 \nQ 2525 4250 2034 4250 \nz\nM 2034 4750 \nQ 2819 4750 3233 4129 \nQ 3647 3509 3647 2328 \nQ 3647 1150 3233 529 \nQ 2819 -91 2034 -91 \nQ 1250 -91 836 529 \nQ 422 1150 422 2328 \nQ 422 3509 836 4129 \nQ 1250 4750 2034 4750 \nz\n\" id=\"DejaVuSans-30\" transform=\"scale(0.015625)\"/>\n       </defs>\n       <use xlink:href=\"#DejaVuSans-34\"/>\n       <use x=\"63.623047\" xlink:href=\"#DejaVuSans-34\"/>\n       <use x=\"127.246094\" xlink:href=\"#DejaVuSans-2e\"/>\n       <use x=\"159.033203\" xlink:href=\"#DejaVuSans-30\"/>\n      </g>\n     </g>\n    </g>\n    <g id=\"xtick_2\">\n     <g id=\"line2d_2\">\n      <g>\n       <use style=\"fill:#ffffff;stroke:#ffffff;stroke-width:0.8;\" x=\"88.801826\" xlink:href=\"#m7aa5499255\" y=\"224.64\"/>\n      </g>\n     </g>\n     <g id=\"text_2\">\n      <!-- 48.0 -->\n      <g style=\"fill:#ffffff;\" transform=\"translate(77.669014 239.238437)scale(0.1 -0.1)\">\n       <defs>\n        <path d=\"M 2034 2216 \nQ 1584 2216 1326 1975 \nQ 1069 1734 1069 1313 \nQ 1069 891 1326 650 \nQ 1584 409 2034 409 \nQ 2484 409 2743 651 \nQ 3003 894 3003 1313 \nQ 3003 1734 2745 1975 \nQ 2488 2216 2034 2216 \nz\nM 1403 2484 \nQ 997 2584 770 2862 \nQ 544 3141 544 3541 \nQ 544 4100 942 4425 \nQ 1341 4750 2034 4750 \nQ 2731 4750 3128 4425 \nQ 3525 4100 3525 3541 \nQ 3525 3141 3298 2862 \nQ 3072 2584 2669 2484 \nQ 3125 2378 3379 2068 \nQ 3634 1759 3634 1313 \nQ 3634 634 3220 271 \nQ 2806 -91 2034 -91 \nQ 1263 -91 848 271 \nQ 434 634 434 1313 \nQ 434 1759 690 2068 \nQ 947 2378 1403 2484 \nz\nM 1172 3481 \nQ 1172 3119 1398 2916 \nQ 1625 2713 2034 2713 \nQ 2441 2713 2670 2916 \nQ 2900 3119 2900 3481 \nQ 2900 3844 2670 4047 \nQ 2441 4250 2034 4250 \nQ 1625 4250 1398 4047 \nQ 1172 3844 1172 3481 \nz\n\" id=\"DejaVuSans-38\" transform=\"scale(0.015625)\"/>\n       </defs>\n       <use xlink:href=\"#DejaVuSans-34\"/>\n       <use x=\"63.623047\" xlink:href=\"#DejaVuSans-38\"/>\n       <use x=\"127.246094\" xlink:href=\"#DejaVuSans-2e\"/>\n       <use x=\"159.033203\" xlink:href=\"#DejaVuSans-30\"/>\n      </g>\n     </g>\n    </g>\n    <g id=\"xtick_3\">\n     <g id=\"line2d_3\">\n      <g>\n       <use style=\"fill:#ffffff;stroke:#ffffff;stroke-width:0.8;\" x=\"119.85934\" xlink:href=\"#m7aa5499255\" y=\"224.64\"/>\n      </g>\n     </g>\n     <g id=\"text_3\">\n      <!-- 57.0 -->\n      <g style=\"fill:#ffffff;\" transform=\"translate(108.726528 239.238437)scale(0.1 -0.1)\">\n       <defs>\n        <path d=\"M 691 4666 \nL 3169 4666 \nL 3169 4134 \nL 1269 4134 \nL 1269 2991 \nQ 1406 3038 1543 3061 \nQ 1681 3084 1819 3084 \nQ 2600 3084 3056 2656 \nQ 3513 2228 3513 1497 \nQ 3513 744 3044 326 \nQ 2575 -91 1722 -91 \nQ 1428 -91 1123 -41 \nQ 819 9 494 109 \nL 494 744 \nQ 775 591 1075 516 \nQ 1375 441 1709 441 \nQ 2250 441 2565 725 \nQ 2881 1009 2881 1497 \nQ 2881 1984 2565 2268 \nQ 2250 2553 1709 2553 \nQ 1456 2553 1204 2497 \nQ 953 2441 691 2322 \nL 691 4666 \nz\n\" id=\"DejaVuSans-35\" transform=\"scale(0.015625)\"/>\n        <path d=\"M 525 4666 \nL 3525 4666 \nL 3525 4397 \nL 1831 0 \nL 1172 0 \nL 2766 4134 \nL 525 4134 \nL 525 4666 \nz\n\" id=\"DejaVuSans-37\" transform=\"scale(0.015625)\"/>\n       </defs>\n       <use xlink:href=\"#DejaVuSans-35\"/>\n       <use x=\"63.623047\" xlink:href=\"#DejaVuSans-37\"/>\n       <use x=\"127.246094\" xlink:href=\"#DejaVuSans-2e\"/>\n       <use x=\"159.033203\" xlink:href=\"#DejaVuSans-30\"/>\n      </g>\n     </g>\n    </g>\n    <g id=\"xtick_4\">\n     <g id=\"line2d_4\">\n      <g>\n       <use style=\"fill:#ffffff;stroke:#ffffff;stroke-width:0.8;\" x=\"150.916854\" xlink:href=\"#m7aa5499255\" y=\"224.64\"/>\n      </g>\n     </g>\n     <g id=\"text_4\">\n      <!-- 46.0 -->\n      <g style=\"fill:#ffffff;\" transform=\"translate(139.784042 239.238437)scale(0.1 -0.1)\">\n       <defs>\n        <path d=\"M 2113 2584 \nQ 1688 2584 1439 2293 \nQ 1191 2003 1191 1497 \nQ 1191 994 1439 701 \nQ 1688 409 2113 409 \nQ 2538 409 2786 701 \nQ 3034 994 3034 1497 \nQ 3034 2003 2786 2293 \nQ 2538 2584 2113 2584 \nz\nM 3366 4563 \nL 3366 3988 \nQ 3128 4100 2886 4159 \nQ 2644 4219 2406 4219 \nQ 1781 4219 1451 3797 \nQ 1122 3375 1075 2522 \nQ 1259 2794 1537 2939 \nQ 1816 3084 2150 3084 \nQ 2853 3084 3261 2657 \nQ 3669 2231 3669 1497 \nQ 3669 778 3244 343 \nQ 2819 -91 2113 -91 \nQ 1303 -91 875 529 \nQ 447 1150 447 2328 \nQ 447 3434 972 4092 \nQ 1497 4750 2381 4750 \nQ 2619 4750 2861 4703 \nQ 3103 4656 3366 4563 \nz\n\" id=\"DejaVuSans-36\" transform=\"scale(0.015625)\"/>\n       </defs>\n       <use xlink:href=\"#DejaVuSans-34\"/>\n       <use x=\"63.623047\" xlink:href=\"#DejaVuSans-36\"/>\n       <use x=\"127.246094\" xlink:href=\"#DejaVuSans-2e\"/>\n       <use x=\"159.033203\" xlink:href=\"#DejaVuSans-30\"/>\n      </g>\n     </g>\n    </g>\n    <g id=\"xtick_5\">\n     <g id=\"line2d_5\">\n      <g>\n       <use style=\"fill:#ffffff;stroke:#ffffff;stroke-width:0.8;\" x=\"181.974368\" xlink:href=\"#m7aa5499255\" y=\"224.64\"/>\n      </g>\n     </g>\n     <g id=\"text_5\">\n      <!-- 49.0 -->\n      <g style=\"fill:#ffffff;\" transform=\"translate(170.841556 239.238437)scale(0.1 -0.1)\">\n       <defs>\n        <path d=\"M 703 97 \nL 703 672 \nQ 941 559 1184 500 \nQ 1428 441 1663 441 \nQ 2288 441 2617 861 \nQ 2947 1281 2994 2138 \nQ 2813 1869 2534 1725 \nQ 2256 1581 1919 1581 \nQ 1219 1581 811 2004 \nQ 403 2428 403 3163 \nQ 403 3881 828 4315 \nQ 1253 4750 1959 4750 \nQ 2769 4750 3195 4129 \nQ 3622 3509 3622 2328 \nQ 3622 1225 3098 567 \nQ 2575 -91 1691 -91 \nQ 1453 -91 1209 -44 \nQ 966 3 703 97 \nz\nM 1959 2075 \nQ 2384 2075 2632 2365 \nQ 2881 2656 2881 3163 \nQ 2881 3666 2632 3958 \nQ 2384 4250 1959 4250 \nQ 1534 4250 1286 3958 \nQ 1038 3666 1038 3163 \nQ 1038 2656 1286 2365 \nQ 1534 2075 1959 2075 \nz\n\" id=\"DejaVuSans-39\" transform=\"scale(0.015625)\"/>\n       </defs>\n       <use xlink:href=\"#DejaVuSans-34\"/>\n       <use x=\"63.623047\" xlink:href=\"#DejaVuSans-39\"/>\n       <use x=\"127.246094\" xlink:href=\"#DejaVuSans-2e\"/>\n       <use x=\"159.033203\" xlink:href=\"#DejaVuSans-30\"/>\n      </g>\n     </g>\n    </g>\n    <g id=\"xtick_6\">\n     <g id=\"line2d_6\">\n      <g>\n       <use style=\"fill:#ffffff;stroke:#ffffff;stroke-width:0.8;\" x=\"213.031882\" xlink:href=\"#m7aa5499255\" y=\"224.64\"/>\n      </g>\n     </g>\n     <g id=\"text_6\">\n      <!-- 51.0 -->\n      <g style=\"fill:#ffffff;\" transform=\"translate(201.899069 239.238437)scale(0.1 -0.1)\">\n       <defs>\n        <path d=\"M 794 531 \nL 1825 531 \nL 1825 4091 \nL 703 3866 \nL 703 4441 \nL 1819 4666 \nL 2450 4666 \nL 2450 531 \nL 3481 531 \nL 3481 0 \nL 794 0 \nL 794 531 \nz\n\" id=\"DejaVuSans-31\" transform=\"scale(0.015625)\"/>\n       </defs>\n       <use xlink:href=\"#DejaVuSans-35\"/>\n       <use x=\"63.623047\" xlink:href=\"#DejaVuSans-31\"/>\n       <use x=\"127.246094\" xlink:href=\"#DejaVuSans-2e\"/>\n       <use x=\"159.033203\" xlink:href=\"#DejaVuSans-30\"/>\n      </g>\n     </g>\n    </g>\n    <g id=\"xtick_7\">\n     <g id=\"line2d_7\">\n      <g>\n       <use style=\"fill:#ffffff;stroke:#ffffff;stroke-width:0.8;\" x=\"244.089396\" xlink:href=\"#m7aa5499255\" y=\"224.64\"/>\n      </g>\n     </g>\n     <g id=\"text_7\">\n      <!-- 50.0 -->\n      <g style=\"fill:#ffffff;\" transform=\"translate(232.956583 239.238437)scale(0.1 -0.1)\">\n       <use xlink:href=\"#DejaVuSans-35\"/>\n       <use x=\"63.623047\" xlink:href=\"#DejaVuSans-30\"/>\n       <use x=\"127.246094\" xlink:href=\"#DejaVuSans-2e\"/>\n       <use x=\"159.033203\" xlink:href=\"#DejaVuSans-30\"/>\n      </g>\n     </g>\n    </g>\n    <g id=\"xtick_8\">\n     <g id=\"line2d_8\">\n      <g>\n       <use style=\"fill:#ffffff;stroke:#ffffff;stroke-width:0.8;\" x=\"275.14691\" xlink:href=\"#m7aa5499255\" y=\"224.64\"/>\n      </g>\n     </g>\n     <g id=\"text_8\">\n      <!-- 55.0 -->\n      <g style=\"fill:#ffffff;\" transform=\"translate(264.014097 239.238437)scale(0.1 -0.1)\">\n       <use xlink:href=\"#DejaVuSans-35\"/>\n       <use x=\"63.623047\" xlink:href=\"#DejaVuSans-35\"/>\n       <use x=\"127.246094\" xlink:href=\"#DejaVuSans-2e\"/>\n       <use x=\"159.033203\" xlink:href=\"#DejaVuSans-30\"/>\n      </g>\n     </g>\n    </g>\n    <g id=\"xtick_9\">\n     <g id=\"line2d_9\">\n      <g>\n       <use style=\"fill:#ffffff;stroke:#ffffff;stroke-width:0.8;\" x=\"306.204424\" xlink:href=\"#m7aa5499255\" y=\"224.64\"/>\n      </g>\n     </g>\n     <g id=\"text_9\">\n      <!-- 52.0 -->\n      <g style=\"fill:#ffffff;\" transform=\"translate(295.071611 239.238437)scale(0.1 -0.1)\">\n       <defs>\n        <path d=\"M 1228 531 \nL 3431 531 \nL 3431 0 \nL 469 0 \nL 469 531 \nQ 828 903 1448 1529 \nQ 2069 2156 2228 2338 \nQ 2531 2678 2651 2914 \nQ 2772 3150 2772 3378 \nQ 2772 3750 2511 3984 \nQ 2250 4219 1831 4219 \nQ 1534 4219 1204 4116 \nQ 875 4013 500 3803 \nL 500 4441 \nQ 881 4594 1212 4672 \nQ 1544 4750 1819 4750 \nQ 2544 4750 2975 4387 \nQ 3406 4025 3406 3419 \nQ 3406 3131 3298 2873 \nQ 3191 2616 2906 2266 \nQ 2828 2175 2409 1742 \nQ 1991 1309 1228 531 \nz\n\" id=\"DejaVuSans-32\" transform=\"scale(0.015625)\"/>\n       </defs>\n       <use xlink:href=\"#DejaVuSans-35\"/>\n       <use x=\"63.623047\" xlink:href=\"#DejaVuSans-32\"/>\n       <use x=\"127.246094\" xlink:href=\"#DejaVuSans-2e\"/>\n       <use x=\"159.033203\" xlink:href=\"#DejaVuSans-30\"/>\n      </g>\n     </g>\n    </g>\n    <g id=\"xtick_10\">\n     <g id=\"line2d_10\">\n      <g>\n       <use style=\"fill:#ffffff;stroke:#ffffff;stroke-width:0.8;\" x=\"337.261938\" xlink:href=\"#m7aa5499255\" y=\"224.64\"/>\n      </g>\n     </g>\n     <g id=\"text_10\">\n      <!-- 56.0 -->\n      <g style=\"fill:#ffffff;\" transform=\"translate(326.129125 239.238437)scale(0.1 -0.1)\">\n       <use xlink:href=\"#DejaVuSans-35\"/>\n       <use x=\"63.623047\" xlink:href=\"#DejaVuSans-36\"/>\n       <use x=\"127.246094\" xlink:href=\"#DejaVuSans-2e\"/>\n       <use x=\"159.033203\" xlink:href=\"#DejaVuSans-30\"/>\n      </g>\n     </g>\n    </g>\n   </g>\n   <g id=\"matplotlib.axis_2\">\n    <g id=\"ytick_1\">\n     <g id=\"line2d_11\">\n      <defs>\n       <path d=\"M 0 0 \nL -3.5 0 \n\" id=\"m63fbc10cec\" style=\"stroke:#ffffff;stroke-width:0.8;\"/>\n      </defs>\n      <g>\n       <use style=\"fill:#ffffff;stroke:#ffffff;stroke-width:0.8;\" x=\"30.103125\" xlink:href=\"#m63fbc10cec\" y=\"224.64\"/>\n      </g>\n     </g>\n     <g id=\"text_11\">\n      <!-- 0.0 -->\n      <g style=\"fill:#ffffff;\" transform=\"translate(7.2 228.439219)scale(0.1 -0.1)\">\n       <use xlink:href=\"#DejaVuSans-30\"/>\n       <use x=\"63.623047\" xlink:href=\"#DejaVuSans-2e\"/>\n       <use x=\"95.410156\" xlink:href=\"#DejaVuSans-30\"/>\n      </g>\n     </g>\n    </g>\n    <g id=\"ytick_2\">\n     <g id=\"line2d_12\">\n      <g>\n       <use style=\"fill:#ffffff;stroke:#ffffff;stroke-width:0.8;\" x=\"30.103125\" xlink:href=\"#m63fbc10cec\" y=\"183.222857\"/>\n      </g>\n     </g>\n     <g id=\"text_12\">\n      <!-- 0.2 -->\n      <g style=\"fill:#ffffff;\" transform=\"translate(7.2 187.022076)scale(0.1 -0.1)\">\n       <use xlink:href=\"#DejaVuSans-30\"/>\n       <use x=\"63.623047\" xlink:href=\"#DejaVuSans-2e\"/>\n       <use x=\"95.410156\" xlink:href=\"#DejaVuSans-32\"/>\n      </g>\n     </g>\n    </g>\n    <g id=\"ytick_3\">\n     <g id=\"line2d_13\">\n      <g>\n       <use style=\"fill:#ffffff;stroke:#ffffff;stroke-width:0.8;\" x=\"30.103125\" xlink:href=\"#m63fbc10cec\" y=\"141.805714\"/>\n      </g>\n     </g>\n     <g id=\"text_13\">\n      <!-- 0.4 -->\n      <g style=\"fill:#ffffff;\" transform=\"translate(7.2 145.604933)scale(0.1 -0.1)\">\n       <use xlink:href=\"#DejaVuSans-30\"/>\n       <use x=\"63.623047\" xlink:href=\"#DejaVuSans-2e\"/>\n       <use x=\"95.410156\" xlink:href=\"#DejaVuSans-34\"/>\n      </g>\n     </g>\n    </g>\n    <g id=\"ytick_4\">\n     <g id=\"line2d_14\">\n      <g>\n       <use style=\"fill:#ffffff;stroke:#ffffff;stroke-width:0.8;\" x=\"30.103125\" xlink:href=\"#m63fbc10cec\" y=\"100.388571\"/>\n      </g>\n     </g>\n     <g id=\"text_14\">\n      <!-- 0.6 -->\n      <g style=\"fill:#ffffff;\" transform=\"translate(7.2 104.18779)scale(0.1 -0.1)\">\n       <use xlink:href=\"#DejaVuSans-30\"/>\n       <use x=\"63.623047\" xlink:href=\"#DejaVuSans-2e\"/>\n       <use x=\"95.410156\" xlink:href=\"#DejaVuSans-36\"/>\n      </g>\n     </g>\n    </g>\n    <g id=\"ytick_5\">\n     <g id=\"line2d_15\">\n      <g>\n       <use style=\"fill:#ffffff;stroke:#ffffff;stroke-width:0.8;\" x=\"30.103125\" xlink:href=\"#m63fbc10cec\" y=\"58.971429\"/>\n      </g>\n     </g>\n     <g id=\"text_15\">\n      <!-- 0.8 -->\n      <g style=\"fill:#ffffff;\" transform=\"translate(7.2 62.770647)scale(0.1 -0.1)\">\n       <use xlink:href=\"#DejaVuSans-30\"/>\n       <use x=\"63.623047\" xlink:href=\"#DejaVuSans-2e\"/>\n       <use x=\"95.410156\" xlink:href=\"#DejaVuSans-38\"/>\n      </g>\n     </g>\n    </g>\n    <g id=\"ytick_6\">\n     <g id=\"line2d_16\">\n      <g>\n       <use style=\"fill:#ffffff;stroke:#ffffff;stroke-width:0.8;\" x=\"30.103125\" xlink:href=\"#m63fbc10cec\" y=\"17.554286\"/>\n      </g>\n     </g>\n     <g id=\"text_16\">\n      <!-- 1.0 -->\n      <g style=\"fill:#ffffff;\" transform=\"translate(7.2 21.353504)scale(0.1 -0.1)\">\n       <use xlink:href=\"#DejaVuSans-31\"/>\n       <use x=\"63.623047\" xlink:href=\"#DejaVuSans-2e\"/>\n       <use x=\"95.410156\" xlink:href=\"#DejaVuSans-30\"/>\n      </g>\n     </g>\n    </g>\n   </g>\n   <g id=\"patch_13\">\n    <path d=\"M 30.103125 224.64 \nL 30.103125 7.2 \n\" style=\"fill:none;stroke:#ffffff;stroke-linecap:square;stroke-linejoin:miter;stroke-width:0.8;\"/>\n   </g>\n   <g id=\"patch_14\">\n    <path d=\"M 364.903125 224.64 \nL 364.903125 7.2 \n\" style=\"fill:none;stroke:#ffffff;stroke-linecap:square;stroke-linejoin:miter;stroke-width:0.8;\"/>\n   </g>\n   <g id=\"patch_15\">\n    <path d=\"M 30.103125 224.64 \nL 364.903125 224.64 \n\" style=\"fill:none;stroke:#ffffff;stroke-linecap:square;stroke-linejoin:miter;stroke-width:0.8;\"/>\n   </g>\n   <g id=\"patch_16\">\n    <path d=\"M 30.103125 7.2 \nL 364.903125 7.2 \n\" style=\"fill:none;stroke:#ffffff;stroke-linecap:square;stroke-linejoin:miter;stroke-width:0.8;\"/>\n   </g>\n  </g>\n </g>\n <defs>\n  <clipPath id=\"pb14d55c703\">\n   <rect height=\"217.44\" width=\"334.8\" x=\"30.103125\" y=\"7.2\"/>\n  </clipPath>\n </defs>\n</svg>\n",
      "image/png": "[encoded data removed]"
     },
     "metadata": {}
    }
   ],
   "source": [
    "\"\"\"\n",
    "\n",
    "Basic clustering of CDIAC data files from Globus\n",
    "\n",
    "\"\"\"\n",
    "\n",
    "\n",
    "file_path = \"CDIACPub8/PX100E.csv\"\n",
    "#test file path and experiment with a .tsv file \n",
    "# feel free to change because this is my machine specific\n",
    "\n",
    "f = open(file_path, \"rb\")\n",
    "contents = f.read()\n",
    "c = Counter(contents)\n",
    "\n",
    "print(\"Metadata associated with the file: \")\n",
    "\n",
    "split_tuple = os.path.splitext(file_path)\n",
    "print(\"File extension: \", split_tuple[1])\n",
    "print(\"File name: \", split_tuple[0])\n",
    "print(\"File path: \", os.path.abspath(file_path))\n",
    "print(\"File size is: \", os.path.getsize(file_path), \"bytes\")\n",
    "print(\"Parent Directory: \", os.path.dirname(os.path.abspath(file_path)))\n",
    "\n",
    "\n",
    "number_of_occurences = 10\n",
    "print(\"Here is a list of the {num_occ} most frequent bytes: \".format(num_occ=number_of_occurences))\n",
    "\n",
    "data = np.zeros(number_of_occurences)\n",
    "values = np.zeros(number_of_occurences)\n",
    "\n",
    "i = 0\n",
    "for value, frequency in c.most_common(number_of_occurences):\n",
    "        data[i] = frequency\n",
    "        values[i] = value\n",
    "        i += 1\n",
    "        print(\"0x{:02x}: {}\".format(value, frequency))\n",
    "\n",
    "data = data / np.amax(data)\n",
    "\n",
    "print(values)\n",
    "plt.bar(range(len(values)), data, align='center', tick_label=values)\n",
    "plt.show()"
   ]
  },
  {
   "source": [
    "## I hope this doesn't crash my computer but I'm going to open each file"
   ],
   "cell_type": "markdown",
   "metadata": {}
  },
  {
   "cell_type": "code",
   "execution_count": 2,
   "metadata": {
    "tags": []
   },
   "outputs": [
    {
     "output_type": "stream",
     "name": "stdout",
     "text": [
      "File count: 20427\n"
     ]
    }
   ],
   "source": [
    "rootdir = \"../CDIACPub8\"\n",
    "\n",
    "file_count = 0\n",
    "for subdir, dirs, files in os.walk(rootdir):\n",
    "    for file in files:\n",
    "        file_count += 1\n",
    "print(\"File count: {fc}\".format(fc=file_count))"
   ]
  },
  {
   "source": [
    "Cannot read all 20426 files so we will first analyze time latency of going through 4kb, 8kb, 16kb, 32kb, 64kb, 128kb, 256kb, and 512kb head of first 500 files"
   ],
   "cell_type": "markdown",
   "metadata": {}
  },
  {
   "cell_type": "code",
   "execution_count": 18,
   "metadata": {},
   "outputs": [],
   "source": [
    "def analyze_byte_head_time(chunksize, num_from_head=500):\n",
    "    start = time.time()\n",
    "    file_index = 0\n",
    "    for subdir, dirs, files in os.walk(rootdir):\n",
    "        for file_name in files:\n",
    "            filepath = subdir + os.sep + file_name\n",
    "\n",
    "            f = open(filepath, \"rb\")\n",
    "            contents = f.read(chunksize)\n",
    "            counter = Counter(contents)\n",
    "            f.close()\n",
    "\n",
    "            file_index += 1\n",
    "            if file_index == 500:\n",
    "                break\n",
    "         if file_index == 500:\n",
    "                break\n",
    "\n",
    "\n",
    "    end = time.time()\n",
    "    time_elapsed = end - start\n",
    "    print(\"For chunksize: {cs} Time elapsed was: {te} seconds\".format(cs=chunksize, te=time_elapsed))\n",
    "    return time_elapsed"
   ]
  },
  {
   "cell_type": "code",
   "execution_count": 14,
   "metadata": {},
   "outputs": [
    {
     "output_type": "stream",
     "name": "stdout",
     "text": [
      "For chunksize: 4096 Time elapsed was: 0.029580116271972656 seconds\n",
      "For chunksize: 8192 Time elapsed was: 0.03571295738220215 seconds\n",
      "For chunksize: 16384 Time elapsed was: 0.0634911060333252 seconds\n",
      "For chunksize: 32768 Time elapsed was: 0.14056086540222168 seconds\n",
      "For chunksize: 65536 Time elapsed was: 0.267291784286499 seconds\n",
      "For chunksize: 131072 Time elapsed was: 0.45305657386779785 seconds\n",
      "For chunksize: 262144 Time elapsed was: 0.9217715263366699 seconds\n",
      "For chunksize: 524288 Time elapsed was: 1.674588680267334 seconds\n",
      "For chunksize: 1048576 Time elapsed was: 3.028841257095337 seconds\n",
      "For chunksize: 2097152 Time elapsed was: 5.458996772766113 seconds\n"
     ]
    },
    {
     "output_type": "display_data",
     "data": {
      "text/plain": "<Figure size 432x288 with 1 Axes>",
      "image/svg+xml": "<?xml version=\"1.0\" encoding=\"utf-8\" standalone=\"no\"?>\n<!DOCTYPE svg PUBLIC \"-//W3C//DTD SVG 1.1//EN\"\n  \"http://www.w3.org/Graphics/SVG/1.1/DTD/svg11.dtd\">\n<svg height=\"248.518125pt\" version=\"1.1\" viewBox=\"0 0 362.5625 248.518125\" width=\"362.5625pt\" xmlns=\"http://www.w3.org/2000/svg\" xmlns:xlink=\"http://www.w3.org/1999/xlink\">\n <metadata>\n  <rdf:RDF xmlns:cc=\"http://creativecommons.org/ns#\" xmlns:dc=\"http://purl.org/dc/elements/1.1/\" xmlns:rdf=\"http://www.w3.org/1999/02/22-rdf-syntax-ns#\">\n   <cc:Work>\n    <dc:type rdf:resource=\"http://purl.org/dc/dcmitype/StillImage\"/>\n    <dc:date>2021-06-07T16:26:06.468321</dc:date>\n    <dc:format>image/svg+xml</dc:format>\n    <dc:creator>\n     <cc:Agent>\n      <dc:title>Matplotlib v3.4.2, https://matplotlib.org/</dc:title>\n     </cc:Agent>\n    </dc:creator>\n   </cc:Work>\n  </rdf:RDF>\n </metadata>\n <defs>\n  <style type=\"text/css\">*{stroke-linecap:butt;stroke-linejoin:round;}</style>\n </defs>\n <g id=\"figure_1\">\n  <g id=\"patch_1\">\n   <path d=\"M 0 248.518125 \nL 362.5625 248.518125 \nL 362.5625 0 \nL 0 0 \nz\n\"/>\n  </g>\n  <g id=\"axes_1\">\n   <g id=\"patch_2\">\n    <path d=\"M 20.5625 224.64 \nL 355.3625 224.64 \nL 355.3625 7.2 \nL 20.5625 7.2 \nz\n\"/>\n   </g>\n   <g id=\"patch_3\">\n    <path clip-path=\"url(#pb2edaff60e)\" d=\"M 35.780682 224.64 \nL 60.626693 224.64 \nL 60.626693 223.517885 \nL 35.780682 223.517885 \nz\n\" style=\"fill:#8dd3c7;\"/>\n   </g>\n   <g id=\"patch_4\">\n    <path clip-path=\"url(#pb2edaff60e)\" d=\"M 66.838196 224.64 \nL 91.684207 224.64 \nL 91.684207 223.285238 \nL 66.838196 223.285238 \nz\n\" style=\"fill:#8dd3c7;\"/>\n   </g>\n   <g id=\"patch_5\">\n    <path clip-path=\"url(#pb2edaff60e)\" d=\"M 97.89571 224.64 \nL 122.741721 224.64 \nL 122.741721 222.23148 \nL 97.89571 222.23148 \nz\n\" style=\"fill:#8dd3c7;\"/>\n   </g>\n   <g id=\"patch_6\">\n    <path clip-path=\"url(#pb2edaff60e)\" d=\"M 128.953224 224.64 \nL 153.799235 224.64 \nL 153.799235 219.307858 \nL 128.953224 219.307858 \nz\n\" style=\"fill:#8dd3c7;\"/>\n   </g>\n   <g id=\"patch_7\">\n    <path clip-path=\"url(#pb2edaff60e)\" d=\"M 160.010737 224.64 \nL 184.856749 224.64 \nL 184.856749 214.500351 \nL 160.010737 214.500351 \nz\n\" style=\"fill:#8dd3c7;\"/>\n   </g>\n   <g id=\"patch_8\">\n    <path clip-path=\"url(#pb2edaff60e)\" d=\"M 191.068251 224.64 \nL 215.914263 224.64 \nL 215.914263 207.453409 \nL 191.068251 207.453409 \nz\n\" style=\"fill:#8dd3c7;\"/>\n   </g>\n   <g id=\"patch_9\">\n    <path clip-path=\"url(#pb2edaff60e)\" d=\"M 222.125765 224.64 \nL 246.971776 224.64 \nL 246.971776 189.672821 \nL 222.125765 189.672821 \nz\n\" style=\"fill:#8dd3c7;\"/>\n   </g>\n   <g id=\"patch_10\">\n    <path clip-path=\"url(#pb2edaff60e)\" d=\"M 253.183279 224.64 \nL 278.02929 224.64 \nL 278.02929 161.114886 \nL 253.183279 161.114886 \nz\n\" style=\"fill:#8dd3c7;\"/>\n   </g>\n   <g id=\"patch_11\">\n    <path clip-path=\"url(#pb2edaff60e)\" d=\"M 284.240793 224.64 \nL 309.086804 224.64 \nL 309.086804 109.741644 \nL 284.240793 109.741644 \nz\n\" style=\"fill:#8dd3c7;\"/>\n   </g>\n   <g id=\"patch_12\">\n    <path clip-path=\"url(#pb2edaff60e)\" d=\"M 315.298307 224.64 \nL 340.144318 224.64 \nL 340.144318 17.554286 \nL 315.298307 17.554286 \nz\n\" style=\"fill:#8dd3c7;\"/>\n   </g>\n   <g id=\"matplotlib.axis_1\">\n    <g id=\"xtick_1\">\n     <g id=\"line2d_1\">\n      <defs>\n       <path d=\"M 0 0 \nL 0 3.5 \n\" id=\"mc6b9e737e9\" style=\"stroke:#ffffff;stroke-width:0.8;\"/>\n      </defs>\n      <g>\n       <use style=\"fill:#ffffff;stroke:#ffffff;stroke-width:0.8;\" x=\"48.203687\" xlink:href=\"#mc6b9e737e9\" y=\"224.64\"/>\n      </g>\n     </g>\n     <g id=\"text_1\">\n      <!-- 4096 -->\n      <g style=\"fill:#ffffff;\" transform=\"translate(35.478687 239.238437)scale(0.1 -0.1)\">\n       <defs>\n        <path d=\"M 2419 4116 \nL 825 1625 \nL 2419 1625 \nL 2419 4116 \nz\nM 2253 4666 \nL 3047 4666 \nL 3047 1625 \nL 3713 1625 \nL 3713 1100 \nL 3047 1100 \nL 3047 0 \nL 2419 0 \nL 2419 1100 \nL 313 1100 \nL 313 1709 \nL 2253 4666 \nz\n\" id=\"DejaVuSans-34\" transform=\"scale(0.015625)\"/>\n        <path d=\"M 2034 4250 \nQ 1547 4250 1301 3770 \nQ 1056 3291 1056 2328 \nQ 1056 1369 1301 889 \nQ 1547 409 2034 409 \nQ 2525 409 2770 889 \nQ 3016 1369 3016 2328 \nQ 3016 3291 2770 3770 \nQ 2525 4250 2034 4250 \nz\nM 2034 4750 \nQ 2819 4750 3233 4129 \nQ 3647 3509 3647 2328 \nQ 3647 1150 3233 529 \nQ 2819 -91 2034 -91 \nQ 1250 -91 836 529 \nQ 422 1150 422 2328 \nQ 422 3509 836 4129 \nQ 1250 4750 2034 4750 \nz\n\" id=\"DejaVuSans-30\" transform=\"scale(0.015625)\"/>\n        <path d=\"M 703 97 \nL 703 672 \nQ 941 559 1184 500 \nQ 1428 441 1663 441 \nQ 2288 441 2617 861 \nQ 2947 1281 2994 2138 \nQ 2813 1869 2534 1725 \nQ 2256 1581 1919 1581 \nQ 1219 1581 811 2004 \nQ 403 2428 403 3163 \nQ 403 3881 828 4315 \nQ 1253 4750 1959 4750 \nQ 2769 4750 3195 4129 \nQ 3622 3509 3622 2328 \nQ 3622 1225 3098 567 \nQ 2575 -91 1691 -91 \nQ 1453 -91 1209 -44 \nQ 966 3 703 97 \nz\nM 1959 2075 \nQ 2384 2075 2632 2365 \nQ 2881 2656 2881 3163 \nQ 2881 3666 2632 3958 \nQ 2384 4250 1959 4250 \nQ 1534 4250 1286 3958 \nQ 1038 3666 1038 3163 \nQ 1038 2656 1286 2365 \nQ 1534 2075 1959 2075 \nz\n\" id=\"DejaVuSans-39\" transform=\"scale(0.015625)\"/>\n        <path d=\"M 2113 2584 \nQ 1688 2584 1439 2293 \nQ 1191 2003 1191 1497 \nQ 1191 994 1439 701 \nQ 1688 409 2113 409 \nQ 2538 409 2786 701 \nQ 3034 994 3034 1497 \nQ 3034 2003 2786 2293 \nQ 2538 2584 2113 2584 \nz\nM 3366 4563 \nL 3366 3988 \nQ 3128 4100 2886 4159 \nQ 2644 4219 2406 4219 \nQ 1781 4219 1451 3797 \nQ 1122 3375 1075 2522 \nQ 1259 2794 1537 2939 \nQ 1816 3084 2150 3084 \nQ 2853 3084 3261 2657 \nQ 3669 2231 3669 1497 \nQ 3669 778 3244 343 \nQ 2819 -91 2113 -91 \nQ 1303 -91 875 529 \nQ 447 1150 447 2328 \nQ 447 3434 972 4092 \nQ 1497 4750 2381 4750 \nQ 2619 4750 2861 4703 \nQ 3103 4656 3366 4563 \nz\n\" id=\"DejaVuSans-36\" transform=\"scale(0.015625)\"/>\n       </defs>\n       <use xlink:href=\"#DejaVuSans-34\"/>\n       <use x=\"63.623047\" xlink:href=\"#DejaVuSans-30\"/>\n       <use x=\"127.246094\" xlink:href=\"#DejaVuSans-39\"/>\n       <use x=\"190.869141\" xlink:href=\"#DejaVuSans-36\"/>\n      </g>\n     </g>\n    </g>\n    <g id=\"xtick_2\">\n     <g id=\"line2d_2\">\n      <g>\n       <use style=\"fill:#ffffff;stroke:#ffffff;stroke-width:0.8;\" x=\"79.261201\" xlink:href=\"#mc6b9e737e9\" y=\"224.64\"/>\n      </g>\n     </g>\n     <g id=\"text_2\">\n      <!-- 8192 -->\n      <g style=\"fill:#ffffff;\" transform=\"translate(66.536201 239.238437)scale(0.1 -0.1)\">\n       <defs>\n        <path d=\"M 2034 2216 \nQ 1584 2216 1326 1975 \nQ 1069 1734 1069 1313 \nQ 1069 891 1326 650 \nQ 1584 409 2034 409 \nQ 2484 409 2743 651 \nQ 3003 894 3003 1313 \nQ 3003 1734 2745 1975 \nQ 2488 2216 2034 2216 \nz\nM 1403 2484 \nQ 997 2584 770 2862 \nQ 544 3141 544 3541 \nQ 544 4100 942 4425 \nQ 1341 4750 2034 4750 \nQ 2731 4750 3128 4425 \nQ 3525 4100 3525 3541 \nQ 3525 3141 3298 2862 \nQ 3072 2584 2669 2484 \nQ 3125 2378 3379 2068 \nQ 3634 1759 3634 1313 \nQ 3634 634 3220 271 \nQ 2806 -91 2034 -91 \nQ 1263 -91 848 271 \nQ 434 634 434 1313 \nQ 434 1759 690 2068 \nQ 947 2378 1403 2484 \nz\nM 1172 3481 \nQ 1172 3119 1398 2916 \nQ 1625 2713 2034 2713 \nQ 2441 2713 2670 2916 \nQ 2900 3119 2900 3481 \nQ 2900 3844 2670 4047 \nQ 2441 4250 2034 4250 \nQ 1625 4250 1398 4047 \nQ 1172 3844 1172 3481 \nz\n\" id=\"DejaVuSans-38\" transform=\"scale(0.015625)\"/>\n        <path d=\"M 794 531 \nL 1825 531 \nL 1825 4091 \nL 703 3866 \nL 703 4441 \nL 1819 4666 \nL 2450 4666 \nL 2450 531 \nL 3481 531 \nL 3481 0 \nL 794 0 \nL 794 531 \nz\n\" id=\"DejaVuSans-31\" transform=\"scale(0.015625)\"/>\n        <path d=\"M 1228 531 \nL 3431 531 \nL 3431 0 \nL 469 0 \nL 469 531 \nQ 828 903 1448 1529 \nQ 2069 2156 2228 2338 \nQ 2531 2678 2651 2914 \nQ 2772 3150 2772 3378 \nQ 2772 3750 2511 3984 \nQ 2250 4219 1831 4219 \nQ 1534 4219 1204 4116 \nQ 875 4013 500 3803 \nL 500 4441 \nQ 881 4594 1212 4672 \nQ 1544 4750 1819 4750 \nQ 2544 4750 2975 4387 \nQ 3406 4025 3406 3419 \nQ 3406 3131 3298 2873 \nQ 3191 2616 2906 2266 \nQ 2828 2175 2409 1742 \nQ 1991 1309 1228 531 \nz\n\" id=\"DejaVuSans-32\" transform=\"scale(0.015625)\"/>\n       </defs>\n       <use xlink:href=\"#DejaVuSans-38\"/>\n       <use x=\"63.623047\" xlink:href=\"#DejaVuSans-31\"/>\n       <use x=\"127.246094\" xlink:href=\"#DejaVuSans-39\"/>\n       <use x=\"190.869141\" xlink:href=\"#DejaVuSans-32\"/>\n      </g>\n     </g>\n    </g>\n    <g id=\"xtick_3\">\n     <g id=\"line2d_3\">\n      <g>\n       <use style=\"fill:#ffffff;stroke:#ffffff;stroke-width:0.8;\" x=\"110.318715\" xlink:href=\"#mc6b9e737e9\" y=\"224.64\"/>\n      </g>\n     </g>\n     <g id=\"text_3\">\n      <!-- 16384 -->\n      <g style=\"fill:#ffffff;\" transform=\"translate(94.412465 239.238437)scale(0.1 -0.1)\">\n       <defs>\n        <path d=\"M 2597 2516 \nQ 3050 2419 3304 2112 \nQ 3559 1806 3559 1356 \nQ 3559 666 3084 287 \nQ 2609 -91 1734 -91 \nQ 1441 -91 1130 -33 \nQ 819 25 488 141 \nL 488 750 \nQ 750 597 1062 519 \nQ 1375 441 1716 441 \nQ 2309 441 2620 675 \nQ 2931 909 2931 1356 \nQ 2931 1769 2642 2001 \nQ 2353 2234 1838 2234 \nL 1294 2234 \nL 1294 2753 \nL 1863 2753 \nQ 2328 2753 2575 2939 \nQ 2822 3125 2822 3475 \nQ 2822 3834 2567 4026 \nQ 2313 4219 1838 4219 \nQ 1578 4219 1281 4162 \nQ 984 4106 628 3988 \nL 628 4550 \nQ 988 4650 1302 4700 \nQ 1616 4750 1894 4750 \nQ 2613 4750 3031 4423 \nQ 3450 4097 3450 3541 \nQ 3450 3153 3228 2886 \nQ 3006 2619 2597 2516 \nz\n\" id=\"DejaVuSans-33\" transform=\"scale(0.015625)\"/>\n       </defs>\n       <use xlink:href=\"#DejaVuSans-31\"/>\n       <use x=\"63.623047\" xlink:href=\"#DejaVuSans-36\"/>\n       <use x=\"127.246094\" xlink:href=\"#DejaVuSans-33\"/>\n       <use x=\"190.869141\" xlink:href=\"#DejaVuSans-38\"/>\n       <use x=\"254.492188\" xlink:href=\"#DejaVuSans-34\"/>\n      </g>\n     </g>\n    </g>\n    <g id=\"xtick_4\">\n     <g id=\"line2d_4\">\n      <g>\n       <use style=\"fill:#ffffff;stroke:#ffffff;stroke-width:0.8;\" x=\"141.376229\" xlink:href=\"#mc6b9e737e9\" y=\"224.64\"/>\n      </g>\n     </g>\n     <g id=\"text_4\">\n      <!-- 32768 -->\n      <g style=\"fill:#ffffff;\" transform=\"translate(125.469979 239.238437)scale(0.1 -0.1)\">\n       <defs>\n        <path d=\"M 525 4666 \nL 3525 4666 \nL 3525 4397 \nL 1831 0 \nL 1172 0 \nL 2766 4134 \nL 525 4134 \nL 525 4666 \nz\n\" id=\"DejaVuSans-37\" transform=\"scale(0.015625)\"/>\n       </defs>\n       <use xlink:href=\"#DejaVuSans-33\"/>\n       <use x=\"63.623047\" xlink:href=\"#DejaVuSans-32\"/>\n       <use x=\"127.246094\" xlink:href=\"#DejaVuSans-37\"/>\n       <use x=\"190.869141\" xlink:href=\"#DejaVuSans-36\"/>\n       <use x=\"254.492188\" xlink:href=\"#DejaVuSans-38\"/>\n      </g>\n     </g>\n    </g>\n    <g id=\"xtick_5\">\n     <g id=\"line2d_5\">\n      <g>\n       <use style=\"fill:#ffffff;stroke:#ffffff;stroke-width:0.8;\" x=\"172.433743\" xlink:href=\"#mc6b9e737e9\" y=\"224.64\"/>\n      </g>\n     </g>\n     <g id=\"text_5\">\n      <!-- 65536 -->\n      <g style=\"fill:#ffffff;\" transform=\"translate(156.527493 239.238437)scale(0.1 -0.1)\">\n       <defs>\n        <path d=\"M 691 4666 \nL 3169 4666 \nL 3169 4134 \nL 1269 4134 \nL 1269 2991 \nQ 1406 3038 1543 3061 \nQ 1681 3084 1819 3084 \nQ 2600 3084 3056 2656 \nQ 3513 2228 3513 1497 \nQ 3513 744 3044 326 \nQ 2575 -91 1722 -91 \nQ 1428 -91 1123 -41 \nQ 819 9 494 109 \nL 494 744 \nQ 775 591 1075 516 \nQ 1375 441 1709 441 \nQ 2250 441 2565 725 \nQ 2881 1009 2881 1497 \nQ 2881 1984 2565 2268 \nQ 2250 2553 1709 2553 \nQ 1456 2553 1204 2497 \nQ 953 2441 691 2322 \nL 691 4666 \nz\n\" id=\"DejaVuSans-35\" transform=\"scale(0.015625)\"/>\n       </defs>\n       <use xlink:href=\"#DejaVuSans-36\"/>\n       <use x=\"63.623047\" xlink:href=\"#DejaVuSans-35\"/>\n       <use x=\"127.246094\" xlink:href=\"#DejaVuSans-35\"/>\n       <use x=\"190.869141\" xlink:href=\"#DejaVuSans-33\"/>\n       <use x=\"254.492188\" xlink:href=\"#DejaVuSans-36\"/>\n      </g>\n     </g>\n    </g>\n    <g id=\"xtick_6\">\n     <g id=\"line2d_6\">\n      <g>\n       <use style=\"fill:#ffffff;stroke:#ffffff;stroke-width:0.8;\" x=\"203.491257\" xlink:href=\"#mc6b9e737e9\" y=\"224.64\"/>\n      </g>\n     </g>\n     <g id=\"text_6\">\n      <!-- 131072 -->\n      <g style=\"fill:#ffffff;\" transform=\"translate(184.403757 239.238437)scale(0.1 -0.1)\">\n       <use xlink:href=\"#DejaVuSans-31\"/>\n       <use x=\"63.623047\" xlink:href=\"#DejaVuSans-33\"/>\n       <use x=\"127.246094\" xlink:href=\"#DejaVuSans-31\"/>\n       <use x=\"190.869141\" xlink:href=\"#DejaVuSans-30\"/>\n       <use x=\"254.492188\" xlink:href=\"#DejaVuSans-37\"/>\n       <use x=\"318.115234\" xlink:href=\"#DejaVuSans-32\"/>\n      </g>\n     </g>\n    </g>\n    <g id=\"xtick_7\">\n     <g id=\"line2d_7\">\n      <g>\n       <use style=\"fill:#ffffff;stroke:#ffffff;stroke-width:0.8;\" x=\"234.548771\" xlink:href=\"#mc6b9e737e9\" y=\"224.64\"/>\n      </g>\n     </g>\n     <g id=\"text_7\">\n      <!-- 262144 -->\n      <g style=\"fill:#ffffff;\" transform=\"translate(215.461271 239.238437)scale(0.1 -0.1)\">\n       <use xlink:href=\"#DejaVuSans-32\"/>\n       <use x=\"63.623047\" xlink:href=\"#DejaVuSans-36\"/>\n       <use x=\"127.246094\" xlink:href=\"#DejaVuSans-32\"/>\n       <use x=\"190.869141\" xlink:href=\"#DejaVuSans-31\"/>\n       <use x=\"254.492188\" xlink:href=\"#DejaVuSans-34\"/>\n       <use x=\"318.115234\" xlink:href=\"#DejaVuSans-34\"/>\n      </g>\n     </g>\n    </g>\n    <g id=\"xtick_8\">\n     <g id=\"line2d_8\">\n      <g>\n       <use style=\"fill:#ffffff;stroke:#ffffff;stroke-width:0.8;\" x=\"265.606285\" xlink:href=\"#mc6b9e737e9\" y=\"224.64\"/>\n      </g>\n     </g>\n     <g id=\"text_8\">\n      <!-- 524288 -->\n      <g style=\"fill:#ffffff;\" transform=\"translate(246.518785 239.238437)scale(0.1 -0.1)\">\n       <use xlink:href=\"#DejaVuSans-35\"/>\n       <use x=\"63.623047\" xlink:href=\"#DejaVuSans-32\"/>\n       <use x=\"127.246094\" xlink:href=\"#DejaVuSans-34\"/>\n       <use x=\"190.869141\" xlink:href=\"#DejaVuSans-32\"/>\n       <use x=\"254.492188\" xlink:href=\"#DejaVuSans-38\"/>\n       <use x=\"318.115234\" xlink:href=\"#DejaVuSans-38\"/>\n      </g>\n     </g>\n    </g>\n    <g id=\"xtick_9\">\n     <g id=\"line2d_9\">\n      <g>\n       <use style=\"fill:#ffffff;stroke:#ffffff;stroke-width:0.8;\" x=\"296.663799\" xlink:href=\"#mc6b9e737e9\" y=\"224.64\"/>\n      </g>\n     </g>\n     <g id=\"text_9\">\n      <!-- 1048576 -->\n      <g style=\"fill:#ffffff;\" transform=\"translate(274.395049 239.238437)scale(0.1 -0.1)\">\n       <use xlink:href=\"#DejaVuSans-31\"/>\n       <use x=\"63.623047\" xlink:href=\"#DejaVuSans-30\"/>\n       <use x=\"127.246094\" xlink:href=\"#DejaVuSans-34\"/>\n       <use x=\"190.869141\" xlink:href=\"#DejaVuSans-38\"/>\n       <use x=\"254.492188\" xlink:href=\"#DejaVuSans-35\"/>\n       <use x=\"318.115234\" xlink:href=\"#DejaVuSans-37\"/>\n       <use x=\"381.738281\" xlink:href=\"#DejaVuSans-36\"/>\n      </g>\n     </g>\n    </g>\n    <g id=\"xtick_10\">\n     <g id=\"line2d_10\">\n      <g>\n       <use style=\"fill:#ffffff;stroke:#ffffff;stroke-width:0.8;\" x=\"327.721313\" xlink:href=\"#mc6b9e737e9\" y=\"224.64\"/>\n      </g>\n     </g>\n     <g id=\"text_10\">\n      <!-- 2097152 -->\n      <g style=\"fill:#ffffff;\" transform=\"translate(305.452563 239.238437)scale(0.1 -0.1)\">\n       <use xlink:href=\"#DejaVuSans-32\"/>\n       <use x=\"63.623047\" xlink:href=\"#DejaVuSans-30\"/>\n       <use x=\"127.246094\" xlink:href=\"#DejaVuSans-39\"/>\n       <use x=\"190.869141\" xlink:href=\"#DejaVuSans-37\"/>\n       <use x=\"254.492188\" xlink:href=\"#DejaVuSans-31\"/>\n       <use x=\"318.115234\" xlink:href=\"#DejaVuSans-35\"/>\n       <use x=\"381.738281\" xlink:href=\"#DejaVuSans-32\"/>\n      </g>\n     </g>\n    </g>\n   </g>\n   <g id=\"matplotlib.axis_2\">\n    <g id=\"ytick_1\">\n     <g id=\"line2d_11\">\n      <defs>\n       <path d=\"M 0 0 \nL -3.5 0 \n\" id=\"m95f3e80e40\" style=\"stroke:#ffffff;stroke-width:0.8;\"/>\n      </defs>\n      <g>\n       <use style=\"fill:#ffffff;stroke:#ffffff;stroke-width:0.8;\" x=\"20.5625\" xlink:href=\"#m95f3e80e40\" y=\"224.64\"/>\n      </g>\n     </g>\n     <g id=\"text_11\">\n      <!-- 0 -->\n      <g style=\"fill:#ffffff;\" transform=\"translate(7.2 228.439219)scale(0.1 -0.1)\">\n       <use xlink:href=\"#DejaVuSans-30\"/>\n      </g>\n     </g>\n    </g>\n    <g id=\"ytick_2\">\n     <g id=\"line2d_12\">\n      <g>\n       <use style=\"fill:#ffffff;stroke:#ffffff;stroke-width:0.8;\" x=\"20.5625\" xlink:href=\"#m95f3e80e40\" y=\"186.705243\"/>\n      </g>\n     </g>\n     <g id=\"text_12\">\n      <!-- 1 -->\n      <g style=\"fill:#ffffff;\" transform=\"translate(7.2 190.504462)scale(0.1 -0.1)\">\n       <use xlink:href=\"#DejaVuSans-31\"/>\n      </g>\n     </g>\n    </g>\n    <g id=\"ytick_3\">\n     <g id=\"line2d_13\">\n      <g>\n       <use style=\"fill:#ffffff;stroke:#ffffff;stroke-width:0.8;\" x=\"20.5625\" xlink:href=\"#m95f3e80e40\" y=\"148.770487\"/>\n      </g>\n     </g>\n     <g id=\"text_13\">\n      <!-- 2 -->\n      <g style=\"fill:#ffffff;\" transform=\"translate(7.2 152.569705)scale(0.1 -0.1)\">\n       <use xlink:href=\"#DejaVuSans-32\"/>\n      </g>\n     </g>\n    </g>\n    <g id=\"ytick_4\">\n     <g id=\"line2d_14\">\n      <g>\n       <use style=\"fill:#ffffff;stroke:#ffffff;stroke-width:0.8;\" x=\"20.5625\" xlink:href=\"#m95f3e80e40\" y=\"110.83573\"/>\n      </g>\n     </g>\n     <g id=\"text_14\">\n      <!-- 3 -->\n      <g style=\"fill:#ffffff;\" transform=\"translate(7.2 114.634949)scale(0.1 -0.1)\">\n       <use xlink:href=\"#DejaVuSans-33\"/>\n      </g>\n     </g>\n    </g>\n    <g id=\"ytick_5\">\n     <g id=\"line2d_15\">\n      <g>\n       <use style=\"fill:#ffffff;stroke:#ffffff;stroke-width:0.8;\" x=\"20.5625\" xlink:href=\"#m95f3e80e40\" y=\"72.900973\"/>\n      </g>\n     </g>\n     <g id=\"text_15\">\n      <!-- 4 -->\n      <g style=\"fill:#ffffff;\" transform=\"translate(7.2 76.700192)scale(0.1 -0.1)\">\n       <use xlink:href=\"#DejaVuSans-34\"/>\n      </g>\n     </g>\n    </g>\n    <g id=\"ytick_6\">\n     <g id=\"line2d_16\">\n      <g>\n       <use style=\"fill:#ffffff;stroke:#ffffff;stroke-width:0.8;\" x=\"20.5625\" xlink:href=\"#m95f3e80e40\" y=\"34.966217\"/>\n      </g>\n     </g>\n     <g id=\"text_16\">\n      <!-- 5 -->\n      <g style=\"fill:#ffffff;\" transform=\"translate(7.2 38.765435)scale(0.1 -0.1)\">\n       <use xlink:href=\"#DejaVuSans-35\"/>\n      </g>\n     </g>\n    </g>\n   </g>\n   <g id=\"patch_13\">\n    <path d=\"M 20.5625 224.64 \nL 20.5625 7.2 \n\" style=\"fill:none;stroke:#ffffff;stroke-linecap:square;stroke-linejoin:miter;stroke-width:0.8;\"/>\n   </g>\n   <g id=\"patch_14\">\n    <path d=\"M 355.3625 224.64 \nL 355.3625 7.2 \n\" style=\"fill:none;stroke:#ffffff;stroke-linecap:square;stroke-linejoin:miter;stroke-width:0.8;\"/>\n   </g>\n   <g id=\"patch_15\">\n    <path d=\"M 20.5625 224.64 \nL 355.3625 224.64 \n\" style=\"fill:none;stroke:#ffffff;stroke-linecap:square;stroke-linejoin:miter;stroke-width:0.8;\"/>\n   </g>\n   <g id=\"patch_16\">\n    <path d=\"M 20.5625 7.2 \nL 355.3625 7.2 \n\" style=\"fill:none;stroke:#ffffff;stroke-linecap:square;stroke-linejoin:miter;stroke-width:0.8;\"/>\n   </g>\n  </g>\n </g>\n <defs>\n  <clipPath id=\"pb2edaff60e\">\n   <rect height=\"217.44\" width=\"334.8\" x=\"20.5625\" y=\"7.2\"/>\n  </clipPath>\n </defs>\n</svg>\n",
      "image/png": "[encoded data removed]"
     },
     "metadata": {}
    }
   ],
   "source": [
    "times = []\n",
    "head_size = []\n",
    "\n",
    "for i in range(0, 10):\n",
    "    head_size.append(4096 * (2 ** i))  \n",
    "    times.append(analyze_byte_head_time(head_size[i]))\n",
    "\n",
    "plt.figure(1)\n",
    "plt.bar(range(len(head_size)), times, align='center', tick_label=head_size)\n",
    "plt.show()"
   ]
  },
  {
   "cell_type": "code",
   "execution_count": 10,
   "metadata": {},
   "outputs": [],
   "source": [
    "\n",
    "def analyze_bytes(chunksize, file_count):\n",
    "    mega_dict = dict()\n",
    "    start = time.time()\n",
    "    file_index = 0\n",
    "    for subdir, dirs, files in os.walk(rootdir):\n",
    "        for file_name in files:\n",
    "            filepath = os.path.abspath(os.path.join(subdir, file_name))\n",
    "            file_dict = dict()\n",
    "            f = open(filepath, \"rb\")\n",
    "            contents = f.read(chunksize)\n",
    "            counter = Counter(contents)\n",
    "\n",
    "            for value, frequency in counter.most_common(255):\n",
    "                file_dict[value] = frequency\n",
    "\n",
    "            f.close()\n",
    "\n",
    "            mega_dict[filepath] = file_dict\n",
    "\n",
    "            file_index += 1\n",
    "            if file_index % 2000 == 0:\n",
    "                print('done with 2000')\n",
    "\n",
    "    end = time.time()\n",
    "    time_elapsed = end - start\n",
    "    print(\"For chunksize: {cs} bytes Time elapsed was: {te} seconds\".format(cs=chunksize, te=time_elapsed))\n",
    "    return mega_dict\n",
    "   "
   ]
  },
  {
   "cell_type": "code",
   "execution_count": 14,
   "metadata": {},
   "outputs": [
    {
     "output_type": "stream",
     "name": "stdout",
     "text": [
      "done with 2000\n",
      "done with 2000\n",
      "done with 2000\n",
      "done with 2000\n",
      "done with 2000\n",
      "done with 2000\n",
      "done with 2000\n",
      "done with 2000\n",
      "done with 2000\n",
      "done with 2000\n",
      "For chunksize: 262144 bytes Time elapsed was: 68.88771438598633 seconds\n",
      "Dumping done!\n"
     ]
    }
   ],
   "source": [
    "one_gram_mega_dict = analyze_bytes(262144, file_count)\n",
    "with open('one_grams_256.json', 'w+') as f1:\n",
    "    json.dump(one_gram_mega_dict, f1, indent=4)\n",
    "    f1.close()\n",
    "print(\"Dumping done!\")\n"
   ]
  },
  {
   "cell_type": "code",
   "execution_count": 20,
   "metadata": {},
   "outputs": [
    {
     "output_type": "stream",
     "name": "stdout",
     "text": [
      "20426\n"
     ]
    }
   ],
   "source": [
    "print(file_count)"
   ]
  },
  {
   "source": [
    "# 2 gram extraction"
   ],
   "cell_type": "markdown",
   "metadata": {}
  },
  {
   "cell_type": "code",
   "execution_count": 12,
   "metadata": {},
   "outputs": [],
   "source": [
    "def extract_2grams(chunksize):\n",
    "    start = time.time()\n",
    "    file_index = 0\n",
    "    mega_dict = dict()\n",
    "\n",
    "    for subdir, dirs, files in os.walk(rootdir):\n",
    "        for file_name in files:\n",
    "            file_dict = dict()\n",
    "            file_path = os.path.abspath(os.path.join(subdir, file_name))\n",
    "            f = open(file_path, \"rb\")\n",
    "            contents = f.read(chunksize)\n",
    "            contents_byte_array = bytearray(contents)\n",
    "\n",
    "            for i in range(len(contents_byte_array)):\n",
    "                if i == len(contents_byte_array) - 1:\n",
    "                    continue\n",
    "                curr_byte = hex(contents_byte_array[i])\n",
    "                next_byte = hex(contents_byte_array[i+1])\n",
    "                key = str(curr_byte) + '-' + str(next_byte)\n",
    "                if key in file_dict:\n",
    "                    file_dict[key] += 1\n",
    "                else:\n",
    "                    file_dict[key] = 1\n",
    "\n",
    "            if file_index % 2000 == 0:\n",
    "                print(\"Done with 2000\")\n",
    "            file_index += 1    \n",
    "            mega_dict[file_path] = file_dict\n",
    "    \n",
    "    \n",
    "    end = time.time()\n",
    "    time_elapsed = end - start\n",
    "    print(\"For chunksize: {cs} bytes Time elapsed was: {te} seconds\".format(cs=chunksize,te=time_elapsed))\n",
    "    return mega_dict\n",
    "\n",
    "   "
   ]
  },
  {
   "cell_type": "code",
   "execution_count": 15,
   "metadata": {
    "tags": []
   },
   "outputs": [
    {
     "output_type": "stream",
     "name": "stdout",
     "text": [
      "Done with 2000\n",
      "Done with 2000\n",
      "Done with 2000\n",
      "Done with 2000\n",
      "Done with 2000\n",
      "Done with 2000\n",
      "Done with 2000\n",
      "Done with 2000\n",
      "Done with 2000\n",
      "Done with 2000\n",
      "Done with 2000\n",
      "For chunksize: 262144 bytes Time elapsed was: 1207.1123533248901 seconds\n",
      "Dumping done!\n"
     ]
    }
   ],
   "source": [
    "mega_dict_2_gram = (extract_2grams(262144))\n",
    "with open('two_grams_512.json', 'w+') as f1:\n",
    "    json.dump(mega_dict_2_gram, f1, indent=4)\n",
    "    f1.close()\n",
    "print(\"Dumping done!\")"
   ]
  },
  {
   "source": [
    "# 3 gram extraction"
   ],
   "cell_type": "markdown",
   "metadata": {}
  },
  {
   "cell_type": "code",
   "execution_count": 40,
   "metadata": {},
   "outputs": [],
   "source": [
    "def extract_3grams(chunksize):\n",
    "    start = time.time()\n",
    "    file_index = 0\n",
    "    mega_dict = dict()\n",
    "\n",
    "    for subdir, dirs, files in os.walk(rootdir):\n",
    "        for file_name in files:\n",
    "            file_dict = dict()\n",
    "            file_path = os.path.join(subdir, file_name)\n",
    "            f = open(file_path, \"rb\")\n",
    "            contents = f.read(chunksize)\n",
    "            contents_byte_array = bytearray(contents)\n",
    "\n",
    "            for i in range(len(contents_byte_array)):\n",
    "                if i >= len(contents_byte_array) - 2:\n",
    "                    continue\n",
    "                curr_byte = hex(contents_byte_array[i])\n",
    "                next_byte = hex(contents_byte_array[i+1])\n",
    "                next_next_byte = hex(contents_byte_array[i+2])\n",
    "                key = str(curr_byte) + '-' + str(next_byte) + '-' + str(next_next_byte)\n",
    "                if key in file_dict:\n",
    "                    file_dict[key] += 1\n",
    "                else:\n",
    "                    file_dict[key] = 1\n",
    "\n",
    "            if file_index % 1000 == 0:\n",
    "                print(\"Done with 1000\")\n",
    "            file_index += 1    \n",
    "            mega_dict[file_path] = file_dict\n",
    "    \n",
    "    \n",
    "    end = time.time()\n",
    "    time_elapsed = end - start\n",
    "    print(\"For chunksize: {cs} bytes Time elapsed was: {te} seconds\".format(cs=chunksize,te=time_elapsed))\n",
    "    return mega_dict"
   ]
  },
  {
   "cell_type": "code",
   "execution_count": 41,
   "metadata": {},
   "outputs": [
    {
     "output_type": "stream",
     "name": "stdout",
     "text": [
      "Done with 1000\n",
      "Done with 1000\n",
      "Done with 1000\n",
      "Done with 1000\n",
      "Done with 1000\n",
      "Done with 1000\n",
      "Done with 1000\n",
      "Done with 1000\n",
      "Done with 1000\n",
      "Done with 1000\n",
      "Done with 1000\n",
      "Done with 1000\n",
      "Done with 1000\n",
      "Done with 1000\n",
      "Done with 1000\n",
      "Done with 1000\n",
      "Done with 1000\n",
      "Done with 1000\n",
      "Done with 1000\n",
      "Done with 1000\n",
      "Done with 1000\n",
      "For chunksize: 1048576 bytes Time elapsed was: 3643.4144489765167 seconds\n",
      "Starting dump...\n",
      "Done with dump :)\n"
     ]
    }
   ],
   "source": [
    "mega_dict_3_gram = (extract_3grams(1048576))\n",
    "with open('3_grams.json', 'w+') as f2:\n",
    "    print('Starting dump...')\n",
    "    json.dump(mega_dict_3_gram, f2, indent=4)\n",
    "    f2.close()\n",
    "\n",
    "print('Done with dump :)')\n"
   ]
  },
  {
   "cell_type": "code",
   "execution_count": 10,
   "metadata": {},
   "outputs": [],
   "source": [
    "def extract_gram_test(chunksize):\n",
    "    start = time.time()\n",
    "    mega_dict = dict()\n",
    "    file_dict = dict()\n",
    "    file_path = \"test.txt\"\n",
    "    f = open(file_path, \"rb\")\n",
    "    contents = f.read(chunksize)\n",
    "    contents_byte_array = bytearray(contents)\n",
    "\n",
    "    for i in range(len(contents_byte_array)):\n",
    "        if i == len(contents_byte_array) - 1:\n",
    "            continue\n",
    "        curr_byte = hex(contents_byte_array[i])\n",
    "        next_byte = hex(contents_byte_array[i+1])\n",
    "        key = str(curr_byte) + '-' + str(next_byte)\n",
    "        if key in file_dict:\n",
    "            file_dict[key] += 1\n",
    "        else:\n",
    "            file_dict[key] = 1\n",
    "         \n",
    "    mega_dict[file_path] = file_dict\n",
    "    \n",
    "    end = time.time()\n",
    "    time_elapsed = end - start\n",
    "    print(\"For chunksize: {cs} bytes Time elapsed was: {te} seconds\".format(cs=chunksize,te=time_elapsed))\n",
    "    return mega_dict\n"
   ]
  },
  {
   "cell_type": "code",
   "execution_count": 11,
   "metadata": {},
   "outputs": [
    {
     "output_type": "stream",
     "name": "stdout",
     "text": [
      "For chunksize: 1048576 bytes Time elapsed was: 0.014586210250854492 seconds\nStarting dump...\nDump done!\n"
     ]
    }
   ],
   "source": [
    "dict_2_gram = (extract_gram_test(1048576))\n",
    "with open('test.json', 'w+') as f3:\n",
    "    print('Starting dump...')\n",
    "    json.dump(dict_2_gram, f3, indent=4)\n",
    "    f3.close()\n",
    "    print(\"Dump done!\")"
   ]
  },
  {
   "cell_type": "code",
   "execution_count": null,
   "metadata": {},
   "outputs": [],
   "source": []
  }
 ]
}