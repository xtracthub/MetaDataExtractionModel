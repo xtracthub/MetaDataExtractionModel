{
 "cells": [
  {
   "cell_type": "code",
   "execution_count": null,
   "source": [
    "import os, json, pickle, csv, pandas\n",
    "import numpy as np\n",
    "from classDeclarations import file_data\n",
    "from random import sample\n",
    "MAX_SAMPLE_SIZE = 100"
   ],
   "outputs": [],
   "metadata": {}
  },
  {
   "cell_type": "code",
   "execution_count": null,
   "source": [
    "file_extensions = []\n",
    "with open(\"file_extensions.txt\", \"r\") as fp_ext:\n",
    "    file_extensions = [line.rstrip() for line in fp_ext]\n",
    "\n",
    "\n",
    "file_extensions = [''] + [x.lower() for x in file_extensions]\n",
    "print(file_extensions)"
   ],
   "outputs": [],
   "metadata": {}
  },
  {
   "cell_type": "code",
   "execution_count": null,
   "source": [
    "Path = \"../CDIACPub8\"\n",
    "\n",
    "imgs = []\n",
    "tabular = []\n",
    "freetext = []\n",
    "json_xml = []\n",
    "netcdf = []\n",
    "unknown = []\n",
    "\n",
    "missing_count = 0\n",
    "df = pandas.read_csv('CDIACFileData/labels/cdiac_naivetruth_processed.csv')\n",
    "\n",
    "\n",
    "labelSeriesObj = df['file_label']\n",
    "pathSeriesObj = df['path']\n",
    "\n",
    "\n",
    "for i in range(labelSeriesObj.size):\n",
    "    if labelSeriesObj[i] == 'image':\n",
    "        imgs.append(pathSeriesObj[i])\n",
    "    elif labelSeriesObj[i] == 'tabular':\n",
    "        tabular.append(pathSeriesObj[i])\n",
    "    elif labelSeriesObj[i] == 'freetext':\n",
    "        freetext.append(pathSeriesObj[i])\n",
    "    elif labelSeriesObj[i] == 'json/xml':\n",
    "        json_xml.append(pathSeriesObj[i])\n",
    "    elif labelSeriesObj[i] == 'netcdf':\n",
    "        netcdf.append(pathSeriesObj[i])\n",
    "    else: \n",
    "        unknown.append(pathSeriesObj[i])"
   ],
   "outputs": [],
   "metadata": {}
  },
  {
   "cell_type": "code",
   "execution_count": null,
   "source": [
    "print(\"loading files now...\")\n",
    "\n",
    "with open('../CDIACFileData/ByteVectors/byte_vector_dict_1024B.pkl', \"rb\") as fp1:\n",
    "    one_gram = pickle.load(fp1)\n",
    "with open('../CDIACFileData/ByteVectors/byte_vector_dict_1024B_2grams.pkl', \"rb\") as fp2:\n",
    "    two_gram = pickle.load(fp2)\n",
    "\n",
    "\n",
    "\n",
    "print(\"loading files done!\")"
   ],
   "outputs": [],
   "metadata": {}
  }
 ],
 "metadata": {
  "orig_nbformat": 4,
  "language_info": {
   "name": "python"
  }
 },
 "nbformat": 4,
 "nbformat_minor": 2
}