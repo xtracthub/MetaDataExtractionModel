{
 "metadata": {
  "language_info": {
   "codemirror_mode": {
    "name": "ipython",
    "version": 3
   },
   "file_extension": ".py",
   "mimetype": "text/x-python",
   "name": "python",
   "nbconvert_exporter": "python",
   "pygments_lexer": "ipython3",
   "version": "3.8.5"
  },
  "orig_nbformat": 2,
  "kernelspec": {
   "name": "python385jvsc74a57bd0916dbcbb3f70747c44a77c7bcd40155683ae19c65e1c03b4aa3499c5328201f1",
   "display_name": "Python 3.8.5 64-bit"
  },
  "metadata": {
   "interpreter": {
    "hash": "916dbcbb3f70747c44a77c7bcd40155683ae19c65e1c03b4aa3499c5328201f1"
   }
  }
 },
 "nbformat": 4,
 "nbformat_minor": 2,
 "cells": [
  {
   "cell_type": "code",
   "execution_count": 7,
   "metadata": {},
   "outputs": [
    {
     "output_type": "stream",
     "name": "stdout",
     "text": [
      "Metadata associated with the file: \nFile extension:  .txt\nFile name:  pagman\nFile path:  /home/matthewchen/MetaDataExtractionModel/pagman.txt\nFile size is:  8026 bytes\nParent Directory:  /home/matthewchen/MetaDataExtractionModel\nHere is a list of the 10 most frequent bytes: \n0xe2: 2608\n0xa0: 1645\n0x80: 1453\n0xa3: 963\n0xbf: 801\n0x0a: 199\n0xb6: 87\n0x89: 86\n0xa4: 84\n0x9b: 71\n['226', '160', '128', '163', '191', '10', '182', '137', '164', '155']\n"
     ]
    },
    {
     "output_type": "error",
     "ename": "TypeError",
     "evalue": "object of type 'int' has no len()",
     "traceback": [
      "\u001b[0;31m---------------------------------------------------------------------------\u001b[0m",
      "\u001b[0;31mTypeError\u001b[0m                                 Traceback (most recent call last)",
      "\u001b[0;32m<ipython-input-7-961e9eb0dab2>\u001b[0m in \u001b[0;36m<module>\u001b[0;34m\u001b[0m\n\u001b[1;32m     40\u001b[0m \u001b[0;34m\u001b[0m\u001b[0m\n\u001b[1;32m     41\u001b[0m \u001b[0mprint\u001b[0m\u001b[0;34m(\u001b[0m\u001b[0mvalues\u001b[0m\u001b[0;34m)\u001b[0m\u001b[0;34m\u001b[0m\u001b[0;34m\u001b[0m\u001b[0m\n\u001b[0;32m---> 42\u001b[0;31m \u001b[0mplt\u001b[0m\u001b[0;34m.\u001b[0m\u001b[0mbar\u001b[0m\u001b[0;34m(\u001b[0m\u001b[0mrange\u001b[0m\u001b[0;34m(\u001b[0m\u001b[0mlen\u001b[0m\u001b[0;34m(\u001b[0m\u001b[0mfrequency\u001b[0m\u001b[0;34m)\u001b[0m\u001b[0;34m)\u001b[0m\u001b[0;34m,\u001b[0m \u001b[0mdata\u001b[0m\u001b[0;34m,\u001b[0m \u001b[0malign\u001b[0m\u001b[0;34m=\u001b[0m\u001b[0;34m'center'\u001b[0m\u001b[0;34m,\u001b[0m \u001b[0mtick_label\u001b[0m\u001b[0;34m=\u001b[0m\u001b[0mvalues\u001b[0m\u001b[0;34m)\u001b[0m\u001b[0;34m\u001b[0m\u001b[0;34m\u001b[0m\u001b[0m\n\u001b[0m\u001b[1;32m     43\u001b[0m \u001b[0mplt\u001b[0m\u001b[0;34m.\u001b[0m\u001b[0mshow\u001b[0m\u001b[0;34m(\u001b[0m\u001b[0;34m)\u001b[0m\u001b[0;34m\u001b[0m\u001b[0;34m\u001b[0m\u001b[0m\n",
      "\u001b[0;31mTypeError\u001b[0m: object of type 'int' has no len()"
     ]
    }
   ],
   "source": [
    "\"\"\"\r\n",
    "\r\n",
    "Basic clustering of CDIAC data files from Globus\r\n",
    "\r\n",
    "\"\"\"\r\n",
    "\r\n",
    "import matplotlib.pyplot as plt\r\n",
    "from collections import Counter\r\n",
    "import binascii\r\n",
    "import os\r\n",
    "from pathlib import Path\r\n",
    "\r\n",
    "file_path = \"pagman.txt\"\r\n",
    "#test file path and experiment with a .tsv file \r\n",
    "# feel free to change because this is my machine specific\r\n",
    "\r\n",
    "f = open(file_path, \"rb\")\r\n",
    "contents = f.read()\r\n",
    "c = Counter(contents)\r\n",
    "\r\n",
    "print(\"Metadata associated with the file: \")\r\n",
    "\r\n",
    "split_tuple = os.path.splitext(file_path)\r\n",
    "print(\"File extension: \", split_tuple[1])\r\n",
    "print(\"File name: \", split_tuple[0])\r\n",
    "print(\"File path: \", os.path.abspath(file_path))\r\n",
    "print(\"File size is: \", os.path.getsize(file_path), \"bytes\")\r\n",
    "print(\"Parent Directory: \", os.path.dirname(os.path.abspath(file_path)))\r\n",
    "\r\n",
    "\r\n",
    "print(\"Here is a list of the 10 most frequent bytes: \")\r\n",
    "\r\n",
    "data = []\r\n",
    "values = []\r\n",
    "\r\n",
    "for value, frequency in c.most_common(10):\r\n",
    "        data.append(frequency)\r\n",
    "        values.append(str(value))\r\n",
    "        print(\"0x{:02x}: {}\".format(value, frequency))\r\n",
    "\r\n",
    "print(values)\r\n",
    "plt.bar(range(len(values)), data, align='center', tick_label=values)\r\n",
    "plt.show()"
   ]
  },
  {
   "cell_type": "code",
   "execution_count": null,
   "metadata": {},
   "outputs": [],
   "source": []
  }
 ]
}