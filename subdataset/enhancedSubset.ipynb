{
 "metadata": {
  "language_info": {
   "codemirror_mode": {
    "name": "ipython",
    "version": 3
   },
   "file_extension": ".py",
   "mimetype": "text/x-python",
   "name": "python",
   "nbconvert_exporter": "python",
   "pygments_lexer": "ipython3",
   "version": "3.8.5"
  },
  "orig_nbformat": 4,
  "kernelspec": {
   "name": "python3",
   "display_name": "Python 3.8.5 64-bit"
  },
  "interpreter": {
   "hash": "e7370f93d1d0cde622a1f8e1c04877d8463912d04d973331ad4851f04de6915a"
  }
 },
 "nbformat": 4,
 "nbformat_minor": 2,
 "cells": [
  {
   "cell_type": "code",
   "execution_count": 8,
   "metadata": {},
   "outputs": [],
   "source": [
    "import os, json, pickle, csv, pandas\n",
    "import numpy as np\n",
    "from classDeclarations import file_data\n",
    "from random import sample\n",
    "MAX_SAMPLE_SIZE = 100"
   ]
  },
  {
   "cell_type": "code",
   "execution_count": 9,
   "metadata": {},
   "outputs": [],
   "source": [
    "Path = \"../../CDIACPub8\"\n",
    "\n",
    "imgs = []\n",
    "tabular = []\n",
    "freetext = []\n",
    "json_xml = []\n",
    "netcdf = []\n",
    "unknown = []\n",
    "\n",
    "df = pandas.read_csv('../CDIACFileData/labels/cdiac_naivetruth_processed.csv')\n",
    "\n",
    "pathSeriesObj = df['path'].values\n",
    "labelSeriesObj = df['file_label'].values\n",
    "\n",
    "for i in range(len(labelSeriesObj)):\n",
    "    if labelSeriesObj[i] == 'image':\n",
    "        imgs.append(pathSeriesObj[i])\n",
    "    elif labelSeriesObj[i] == 'tabular':\n",
    "        tabular.append(pathSeriesObj[i])\n",
    "    elif labelSeriesObj[i] == 'freetext':\n",
    "        freetext.append(pathSeriesObj[i])\n",
    "    elif labelSeriesObj[i] == 'json/xml':\n",
    "        json_xml.append(pathSeriesObj[i])\n",
    "    elif labelSeriesObj[i] == 'netcdf':\n",
    "        netcdf.append(pathSeriesObj[i])\n",
    "    else:\n",
    "        unknown.append(pathSeriesObj[i])\n"
   ]
  },
  {
   "cell_type": "code",
   "execution_count": 10,
   "metadata": {},
   "outputs": [],
   "source": [
    "img_sample_names = sample(imgs, MAX_SAMPLE_SIZE)\n",
    "tabular_sample_names = sample(tabular, MAX_SAMPLE_SIZE)\n",
    "freetext_sample_names = sample(freetext, MAX_SAMPLE_SIZE)\n",
    "json_xml_sample_names = sample(json_xml, MAX_SAMPLE_SIZE)\n",
    "netcdf_sample_names = sample(netcdf, MAX_SAMPLE_SIZE)\n",
    "unknown_sample_names = sample(unknown, MAX_SAMPLE_SIZE)"
   ]
  },
  {
   "cell_type": "code",
   "execution_count": 11,
   "metadata": {},
   "outputs": [
    {
     "output_type": "stream",
     "name": "stdout",
     "text": [
      "loading files now...\n",
      "loading files done!\n"
     ]
    }
   ],
   "source": [
    "print(\"loading files now...\")\n",
    "one_gram = json.load(open('../CDIACFileData/one_grams_distr_256.json', 'r'))\n",
    "two_gram = json.load(open('../CDIACFileData/two_grams_distr_256.json', 'r'))\n",
    "\n",
    "byte_distr = pandas.DataFrame.from_dict(one_gram)\n",
    "two_grams_dicts = pandas.DataFrame.from_dict(two_gram)\n",
    "#best_extractors = json.load(open(\"../CorrelatingExtractors/best_extractors.json\"))\n",
    "print(\"loading files done!\")"
   ]
  },
  {
   "cell_type": "code",
   "execution_count": 12,
   "metadata": {},
   "outputs": [],
   "source": [
    "byte_distr_new_index = byte_distr.index.tolist()\n",
    "byte_distr_new_index.append(\"file_type\")\n",
    "byte_distr_new_index.append(\"file_size\")\n",
    "byte_distr = byte_distr.reindex(byte_distr_new_index)\n",
    "\n",
    "two_grams_dicts_new_index = two_grams_dicts.index.tolist()\n",
    "two_grams_dicts_new_index.append(\"file_type\")\n",
    "two_grams_dicts_new_index.append(\"file_size\")\n",
    "two_grams_dicts = two_grams_dicts.reindex(two_grams_dicts_new_index)\n",
    "\n",
    "#byte_distr.sort_index(key=lambda x: x.str.lower())\n",
    "#two_grams_dicts.sort_index(key=lambda x: x.str.lower())"
   ]
  },
  {
   "cell_type": "code",
   "execution_count": null,
   "metadata": {},
   "outputs": [],
   "source": []
  },
  {
   "cell_type": "code",
   "execution_count": 13,
   "metadata": {},
   "outputs": [
    {
     "output_type": "stream",
     "name": "stdout",
     "text": [
      "Done with index 0\nDone with index 1\nDone with index 2\nDone with index 3\nDone with index 4\nDone with index 5\n"
     ]
    }
   ],
   "source": [
    "img_data = []\n",
    "tabular_data = []\n",
    "freetext_data = []\n",
    "json_xml_data = []\n",
    "netcdf_data = []\n",
    "unknown_data = []\n",
    "\n",
    "dataset = [img_data, tabular_data, freetext_data, json_xml_data, netcdf_data, unknown_data]\n",
    "for idx, data_list in enumerate(dataset):\n",
    "    curr_sample = []\n",
    "    if idx == 0:\n",
    "        curr_sample = img_sample_names\n",
    "        best_extractor = 'image'\n",
    "    elif idx == 1:\n",
    "        curr_sample = tabular_sample_names\n",
    "        best_extractor = 'tabular'\n",
    "    elif idx == 2:\n",
    "        curr_sample = freetext_data\n",
    "        best_extractor = 'freetext'\n",
    "    elif idx == 3:\n",
    "        curr_sample = json_xml_data\n",
    "        best_extractor = 'json/xml'\n",
    "    elif idx == 4:\n",
    "        curr_sample = netcdf_data\n",
    "        best_extractor = 'netcdf'\n",
    "    else:\n",
    "        curr_sample = unknown_data\n",
    "        best_extractor = 'unknown'\n",
    "    \n",
    "    print(\"Done with index\", idx)\n",
    "\n",
    "    for file_name in curr_sample:\n",
    "        #best_extractor_row_index = df.path[df.path==file_name].index.tolist()\n",
    "\n",
    "        byte_distr.at['file_type', file_name] = idx \n",
    "        two_grams_dicts.at['file_type', file_name] = idx\n",
    "      \n",
    "        byte_distr.at['file_size', file_name] = os.path.getsize(file_name)\n",
    "        two_grams_dicts.at['file_size', file_name] = os.path.getsize(file_name)\n",
    "\n",
    "        curr_file_data = file_data(file_name, byte_distr[file_name], two_grams_dicts[file_name], best_extractor)\n",
    "        data_list.append(curr_file_data)"
   ]
  },
  {
   "cell_type": "code",
   "execution_count": 14,
   "metadata": {},
   "outputs": [
    {
     "output_type": "stream",
     "name": "stdout",
     "text": [
      "Dumping!\n",
      "Dumped.\n"
     ]
    }
   ],
   "source": [
    "print('Dumping!')\n",
    "\n",
    "with open('gathered_data_appended_256KB_v2.pkl', 'wb+') as handle:\n",
    "    pickle.dump(dataset, file=handle, protocol=pickle.HIGHEST_PROTOCOL)\n",
    "print('Dumped.')\n",
    "\n"
   ]
  },
  {
   "cell_type": "code",
   "execution_count": null,
   "metadata": {},
   "outputs": [],
   "source": []
  }
 ]
}