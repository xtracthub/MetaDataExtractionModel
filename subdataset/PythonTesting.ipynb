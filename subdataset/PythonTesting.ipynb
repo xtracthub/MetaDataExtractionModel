{
 "metadata": {
  "language_info": {
   "codemirror_mode": {
    "name": "ipython",
    "version": 3
   },
   "file_extension": ".py",
   "mimetype": "text/x-python",
   "name": "python",
   "nbconvert_exporter": "python",
   "pygments_lexer": "ipython3",
   "version": "3.8.5"
  },
  "orig_nbformat": 4,
  "kernelspec": {
   "name": "python3",
   "display_name": "Python 3.8.5 64-bit"
  },
  "interpreter": {
   "hash": "e7370f93d1d0cde622a1f8e1c04877d8463912d04d973331ad4851f04de6915a"
  }
 },
 "nbformat": 4,
 "nbformat_minor": 2,
 "cells": [
  {
   "cell_type": "code",
   "execution_count": 2,
   "metadata": {},
   "outputs": [],
   "source": [
    "import os, pickle\n",
    "from classDeclarations import file_data\n"
   ]
  },
  {
   "cell_type": "code",
   "execution_count": 4,
   "metadata": {},
   "outputs": [
    {
     "output_type": "stream",
     "name": "stdout",
     "text": [
      "3\n"
     ]
    }
   ],
   "source": [
    "with open('gathered_data_revised_v4.pkl', \"rb\") as fp:\n",
    "    dataset = pickle.load(fp)\n",
    "print(len(dataset))"
   ]
  },
  {
   "cell_type": "code",
   "execution_count": 10,
   "metadata": {},
   "outputs": [
    {
     "output_type": "stream",
     "name": "stdout",
     "text": [
      "File Size is : 141057 bytes\nFile Size is : 53480 bytes\nFile Size is : 271089 bytes\nFile Size is : 53186 bytes\nFile Size is : 132272 bytes\nFile Size is : 252508 bytes\nFile Size is : 141010 bytes\nFile Size is : 137944 bytes\nFile Size is : 53458 bytes\nFile Size is : 136907 bytes\nFile Size is : 187793 bytes\nFile Size is : 242666 bytes\nFile Size is : 133303 bytes\nFile Size is : 95319 bytes\nFile Size is : 137040 bytes\nFile Size is : 101818 bytes\nFile Size is : 124261 bytes\nFile Size is : 291119 bytes\nFile Size is : 192592 bytes\nFile Size is : 104680 bytes\nFile Size is : 189497 bytes\nFile Size is : 204152 bytes\nFile Size is : 150608 bytes\nFile Size is : 279962 bytes\nFile Size is : 87108 bytes\nFile Size is : 125297 bytes\nFile Size is : 137309 bytes\nFile Size is : 189497 bytes\nFile Size is : 148651 bytes\nFile Size is : 107798 bytes\nFile Size is : 193272 bytes\nFile Size is : 304202 bytes\nFile Size is : 136152 bytes\nFile Size is : 171935 bytes\nFile Size is : 181843 bytes\nFile Size is : 134190 bytes\nFile Size is : 33349 bytes\nFile Size is : 52271 bytes\nFile Size is : 200808 bytes\nFile Size is : 52325 bytes\nFile Size is : 53114 bytes\nFile Size is : 130886 bytes\nFile Size is : 367311 bytes\nFile Size is : 182277 bytes\nFile Size is : 131723 bytes\nFile Size is : 205955 bytes\nFile Size is : 35694 bytes\nFile Size is : 403751 bytes\nFile Size is : 75535 bytes\nFile Size is : 55319 bytes\nFile Size is : 272185 bytes\nFile Size is : 271089 bytes\nFile Size is : 127554 bytes\nFile Size is : 49097 bytes\nFile Size is : 205541 bytes\nFile Size is : 181333 bytes\nFile Size is : 132808 bytes\nFile Size is : 121842 bytes\nFile Size is : 167104 bytes\nFile Size is : 233288 bytes\nFile Size is : 225270 bytes\nFile Size is : 92397 bytes\nFile Size is : 131841 bytes\nFile Size is : 178110 bytes\nFile Size is : 855356 bytes\nFile Size is : 368416 bytes\nFile Size is : 152703 bytes\nFile Size is : 99876 bytes\nFile Size is : 252311 bytes\nFile Size is : 137040 bytes\nFile Size is : 220613 bytes\nFile Size is : 174155 bytes\nFile Size is : 52569 bytes\nFile Size is : 133306 bytes\nFile Size is : 141010 bytes\nFile Size is : 248187 bytes\nFile Size is : 127986 bytes\nFile Size is : 268513 bytes\nFile Size is : 53093 bytes\nFile Size is : 57720 bytes\nFile Size is : 268677 bytes\nFile Size is : 54082 bytes\nFile Size is : 329783 bytes\nFile Size is : 86945 bytes\nFile Size is : 106833 bytes\nFile Size is : 121890 bytes\nFile Size is : 131557 bytes\nFile Size is : 53518 bytes\nFile Size is : 126698 bytes\nFile Size is : 155769 bytes\nFile Size is : 210070 bytes\nFile Size is : 152470 bytes\nFile Size is : 213384 bytes\nFile Size is : 228690 bytes\nFile Size is : 130054 bytes\nFile Size is : 104604 bytes\nFile Size is : 133890 bytes\nFile Size is : 175808 bytes\nFile Size is : 132389 bytes\nFile Size is : 123431 bytes\n"
     ]
    }
   ],
   "source": [
    "for file_data in dataset[0]:\n",
    "    file_size = os.path.getsize(file_data.file_path)\n",
    "    print(\"File Size is :\", file_size, \"bytes\")"
   ]
  },
  {
   "cell_type": "code",
   "execution_count": null,
   "metadata": {},
   "outputs": [],
   "source": []
  }
 ]
}