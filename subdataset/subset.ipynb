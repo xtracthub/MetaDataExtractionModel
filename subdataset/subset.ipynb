{
 "metadata": {
  "language_info": {
   "codemirror_mode": {
    "name": "ipython",
    "version": 3
   },
   "file_extension": ".py",
   "mimetype": "text/x-python",
   "name": "python",
   "nbconvert_exporter": "python",
   "pygments_lexer": "ipython3",
   "version": "3.8.5"
  },
  "orig_nbformat": 4,
  "kernelspec": {
   "name": "python3",
   "display_name": "Python 3.8.5 64-bit"
  },
  "interpreter": {
   "hash": "e7370f93d1d0cde622a1f8e1c04877d8463912d04d973331ad4851f04de6915a"
  }
 },
 "nbformat": 4,
 "nbformat_minor": 2,
 "cells": [
  {
   "cell_type": "code",
   "execution_count": 1,
   "metadata": {},
   "outputs": [],
   "source": [
    "import os, json, pickle, csv, pandas\n",
    "import numpy as np\n",
    "from classDeclarations import file_data\n",
    "from random import sample\n",
    "MAX_SAMPLE_SIZE = 100"
   ]
  },
  {
   "cell_type": "code",
   "execution_count": 2,
   "metadata": {},
   "outputs": [
    {
     "output_type": "stream",
     "name": "stderr",
     "text": [
      "/home/cc/.local/lib/python3.8/site-packages/pandas/core/strings/accessor.py:101: UserWarning: This pattern has match groups. To actually get the groups, use str.extract.\n  return func(self, *args, **kwargs)\n"
     ]
    }
   ],
   "source": [
    "Path = \"../../CDIACPub8\"\n",
    "\n",
    "imgs = []\n",
    "csvs = []\n",
    "pdfs = []\n",
    "\n",
    "missing_count = 0\n",
    "df = pandas.read_csv('../CDIACFileData/labels/cdiac_naivetruth_processed.csv')\n",
    "for subdir, dirs, files in os.walk(Path):\n",
    "    for file_name in files:\n",
    "        file_path = os.path.abspath(os.path.join(subdir, file_name))\n",
    "        if df['path'].str.contains(file_name).any():\n",
    "            if file_path.endswith('.png') or file_path.endswith('.jpg'):\n",
    "                imgs.append(file_path)\n",
    "            elif file_path.endswith('.csv') or file_path.endswith('.tsv'):\n",
    "                csvs.append(file_path)\n",
    "            elif file_path.endswith('.pdf') or file_path.endswith('.txt'):\n",
    "                pdfs.append(file_path)\n",
    "        else:\n",
    "            missing_count += 1\n",
    "\n",
    "\n",
    "img_sample_names = sample(imgs, MAX_SAMPLE_SIZE)\n",
    "csv_sample_names = sample(csvs, MAX_SAMPLE_SIZE)\n",
    "pdfs_sample_names = sample(pdfs, MAX_SAMPLE_SIZE)"
   ]
  },
  {
   "cell_type": "code",
   "execution_count": 3,
   "metadata": {},
   "outputs": [
    {
     "output_type": "stream",
     "name": "stdout",
     "text": [
      "loading files now...\n",
      "loading files done!\n"
     ]
    }
   ],
   "source": [
    "print(\"loading files now...\")\n",
    "one_gram = json.load(open('../CDIACFileData/one_grams_distr_256.json', 'r'))\n",
    "two_gram = json.load(open('../CDIACFileData/two_grams_distr_256.json', 'r'))\n",
    "\n",
    "byte_distr = pandas.DataFrame.from_dict(one_gram)\n",
    "two_grams_dicts = pandas.DataFrame.from_dict(two_gram)\n",
    "#best_extractors = json.load(open(\"../CorrelatingExtractors/best_extractors.json\"))\n",
    "print(\"loading files done!\")"
   ]
  },
  {
   "cell_type": "code",
   "execution_count": null,
   "metadata": {},
   "outputs": [],
   "source": [
    "img_data = []\n",
    "csv_data = []\n",
    "pdf_data = []\n",
    "dataset = [img_data, csv_data, pdf_data]\n",
    "for idx, data_list in enumerate(dataset):\n",
    "    curr_sample = []\n",
    "    if idx == 0:\n",
    "        curr_sample = img_sample_names\n",
    "    elif idx == 1:\n",
    "        curr_sample = csv_sample_names\n",
    "    else:\n",
    "        curr_sample = pdfs_sample_names\n",
    "    \n",
    "    for file_name in curr_sample:\n",
    "        print(type(byte_distr[file_name]))\n",
    "        print(type(two_grams_dicts[file_name]))"
   ]
  },
  {
   "cell_type": "code",
   "execution_count": 6,
   "metadata": {},
   "outputs": [
    {
     "output_type": "stream",
     "name": "stdout",
     "text": [
      "/home/cc/CDIACPub8/oceans/NOAA_Workshop/McKinley_Data/co2flx_regions_detrend.txt\n/home/cc/CDIACPub8/oceans/Moorings/Papa_145W_50N/README.txt\n/home/cc/CDIACPub8/oceans/VOS_Colibri_Line/2016/35MJ20160304_metadata.pdf\n/home/cc/CDIACPub8/oceans/VOS_Skaugran_Line/Data_final/SK16E.txt\n/home/cc/CDIACPub8/oceans/VOS_Palmer_Lines/Palmer_2003/Palmer_methods.pdf\n/home/cc/CDIACPub8/oceans/Bigelow_ECoast/HB2011_2012/hb1105_readme.txt\n/home/cc/CDIACPub8/oceans/VOS_New_Century_2/2014/PANC20140612 _PI_OME.pdf\n/home/cc/CDIACPub8/CdiacBundles/33WA/WS15099_Readme.pdf\n/home/cc/CDIACPub8/oceans/Gordon_Gunter/2008/gu0805_leg2_readme.txt\n/home/cc/CDIACPub8/oceans/VOS_New_Century_2/2014/PANC20140910_PI_OME.pdf\n/home/cc/CDIACPub8/oceans/VOS_Colibri_Line/2010/Colibri_18oct22oct2010_Metadata.pdf\n/home/cc/CDIACPub8/oceans/VOS_Monte_Rio_Lines/MR_2010/RioBlanco_17nov1dec2010_Metadata.pdf\n/home/cc/CDIACPub8/oceans/Benjamin/For_Stew/CdiacBundles/49P1/Pyxis_metadata_NIES.pdf\n/home/cc/CDIACPub8/oceans/VOS_Explorer_line/EXP2010/ex1034_readme.txt\n/home/cc/CDIACPub8/oceans/Moorings/CCE2_121W_34N/CCE2_121W_34N_Jan2010_Mar2011_Meta.pdf\n/home/cc/CDIACPub8/oceans/PACIFICA/SR03_AA0301_2001.data/sr03_09AR20011029_do.pdf\n/home/cc/CDIACPub8/oceans/VOS_Barcelona_Express/2012/BMBE20121220_PI_OME.pdf\n/home/cc/CDIACPub8/oceans/Benjamin/For_Stew/CdiacBundles/33HH/HB1403_readme.pdf\n/home/cc/CDIACPub8/oceans/VOS_Cap_Blanche/2014/2014_CapBlanche_Metadata.pdf\n/home/cc/CDIACPub8/CdiacBundles/33HH/HB1506-Leg1.pdf\n/home/cc/CDIACPub8/oceans/SOCATv4/Fair_Data_Use_Statement for SOCAT.pdf\n/home/cc/CDIACPub8/oceans/Benjamin/For_Stew/CdiacBundles/09FS/PI_OME.pdf\n/home/cc/CDIACPub8/oceans/Benjamin/For_Stew/CdiacBundles/09FS/09FS20110311_heron_4.pdf\n/home/cc/CDIACPub8/oceans/Walton_Smith_Coast/2014/33WA20141019_PI_OME.pdf\n/home/cc/CDIACPub8/oceans/VOS_Palmer_Lines/Palmer_2011/PALM_11_03_data_report.pdf\n/home/cc/CDIACPub8/oceans/minerve7_28fr/min26.txt\n/home/cc/CDIACPub8/oceans/CLIVAR/P02_2013/README.txt\n/home/cc/CDIACPub8/oceans/OISO_line/OISO_25.data/README.txt\n/home/cc/CDIACPub8/oceans/VOS_Ronald_Brown/RB2013/33RO20131020_PI_OME.pdf\n/home/cc/CDIACPub8/CdiacBundles/33HH/HB1405-l2_readme.pdf\n/home/cc/CDIACPub8/oceans/VOS_Palmer_Lines/Palmer_1995/Palmer_PCO2_man_1_2.pdf\n/home/cc/CDIACPub8/oceans/CLIVAR/A12_ANTXX_2/ANTXX_2.pdf\n/home/cc/CDIACPub8/oceans/GOCS12/Pacific_Ocean/PacTimeDistributionv2.pdf\n/home/cc/CDIACPub8/oceans/VOS_Atlantic_Cartier/CAR_2015/README.txt\n/home/cc/CDIACPub8/oceans/VOS_Palmer_Lines/Palmer_2003/Palmer_PCO2_man_1_2.pdf\n/home/cc/CDIACPub8/CdiacBundles/61TG/TAN1308 Tangaroa pCO2 dataset report SOCAT.pdf\n/home/cc/CDIACPub8/oceans/NOAA_Workshop/Lequere_Data/papa_month.txt\n/home/cc/CDIACPub8/oceans/VOS_Palmer_Lines/Palmer_2008/Palmer_PCO2_man_1_2.pdf\n/home/cc/CDIACPub8/data_use_policy.txt\n/home/cc/CDIACPub8/oceans/Gordon_Gunter/2015/33GG20150317_PI_OME.pdf\n/home/cc/CDIACPub8/oceans/SOOP_Roger_Revelle/RR2016/33RR20160626_PI_OME.pdf\n/home/cc/CDIACPub8/oceans/bakker_SOIREE.data/SOIREE_fCO2_transect.txt\n/home/cc/CDIACPub8/oceans/p17nclivar/p17n_2001ado.txt\n/home/cc/CDIACPub8/oceans/OACES91_A16S/README.txt\n/home/cc/CDIACPub8/oceans/CLIVAR/OVIDE_2010/._README.txt\n/home/cc/CDIACPub8/oceans/p12woce/sr03s04doc.pdf\n/home/cc/CDIACPub8/oceans/SOCATv1.5/SOCATv1.5_NorthPacific_2011_09_22.txt\n/home/cc/CDIACPub8/oceans/FerryBox_Roscoff_Plymouth/2014/Contros_calibration_2014.pdf\n/home/cc/CDIACPub8/oceans/VOS_Equinox_line/EQNX_2016/MLCE20160710_PI_OME.pdf\n/home/cc/CDIACPub8/oceans/VOS_AlligatorHope_Line/Data_final/AH10E.txt\n/home/cc/CDIACPub8/oceans/VOS_New_Century_2/2015/PANC20150924_PI_OME.pdf\n/home/cc/CDIACPub8/oceans/Benjamin/For_Stew/CdiacBundles/33GG/GU1505-Leg3_Readme.pdf\n/home/cc/CDIACPub8/oceans/NOAA_Workshop/WHOI_ECO_CCSM_Data/README.txt\n/home/cc/CDIACPub8/oceans/VOS_Colibri_Line/2016/._README.txt\n/home/cc/CDIACPub8/oceans/Benjamin/For_Stew/CdiacBundles/33WA/WS1305-2_Readme.pdf\n/home/cc/CDIACPub8/oceans/VOS_Ronald_Brown/RB2010/rb1001_readme.txt\n/home/cc/CDIACPub8/oceans/VOS_Equinox_line/EQNX_2016/MLCE20161003_PI_OME.pdf\n/home/cc/CDIACPub8/CdiacBundles/33WA/WS1212_Readme.pdf\n/home/cc/CDIACPub8/oceans/Gordon_Gunter/2010/33GG20100915_PI_OME.pdf\n/home/cc/CDIACPub8/oceans/Moorings/Kodiak_152W_57N/._README.txt\n/home/cc/CDIACPub8/CdiacBundles/33KF/EX1420_Readme.pdf\n/home/cc/CDIACPub8/oceans/VOS_Explorer_line/EXP2014/33KF20140405_PI_OME.pdf\n/home/cc/CDIACPub8/oceans/Walton_Smith_Coast/2015/33WA20151110_PI_OME.pdf\n/home/cc/CDIACPub8/oceans/VOS_Ronald_Brown/RB2012/33RO20120215_rb1201_readme.txt\n/home/cc/CDIACPub8/oceans/Gordon_Gunter/2012/33GG20120515_PI_OME.pdf\n/home/cc/CDIACPub8/oceans/VOS_SA_Agulhas_II/2013/README.txt\n/home/cc/CDIACPub8/oceans/AMT_data/AMT1.txt\n/home/cc/CDIACPub8/oceans/VOS_Explorer_line/EXP2014/33KF20141115_PI_OME.pdf\n/home/cc/CDIACPub8/oceans/Bigelow_ECoast/HB2011_2012/hb1103_readme.txt\n/home/cc/CDIACPub8/oceans/PACIFICA/49SU19920225/49SU19920225_do.pdf\n/home/cc/CDIACPub8/oceans/VOS_New_Century_2/2014/PANC20140427_PI_OME.pdf\n/home/cc/CDIACPub8/oceans/Benjamin/For_Stew/CdiacBundles/91AA/Agulhas.pdf\n/home/cc/CDIACPub8/oceans/Benjamin/For_Stew/CdiacBundles/33OA/2014_OscarDyson_Metadata.pdf\n/home/cc/CDIACPub8/oceans/Benjamin/For_Stew/CdiacBundles/09FS/09FS20100421_heron_2.pdf\n/home/cc/CDIACPub8/oceans/Gordon_Gunter/2015/33GG20150822_PI_OME.pdf\n/home/cc/CDIACPub8/oceans/NOAA_Workshop/Lequere_Data/subarc_month.txt\n/home/cc/CDIACPub8/oceans/VOS_Tangaroa/2014/61TG20140203_PI_OME.pdf\n/home/cc/CDIACPub8/CdiacBundles/33WA/WS1214_Readme.pdf\n/home/cc/CDIACPub8/oceans/CLIVAR/ARC01_33HQ20150809/._README.txt\n/home/cc/CDIACPub8/oceans/GOCS12/Pacific_Ocean/DICStaMapv2.pdf\n/home/cc/CDIACPub8/CdiacBundles/64RJ/Reykj-1313_Readme.xml.pdf\n/home/cc/CDIACPub8/oceans/CLIVAR/A12_ANT-XXIV_2/06AQ20071128.CruiseReport.pdf\n/home/cc/CDIACPub8/oceans/VOS_Explorer_line/EXP2007/Explorer_Metadata_2007.pdf\n/home/cc/CDIACPub8/kiw9sfc.txt\n/home/cc/CDIACPub8/oceans/VOS_Palmer_Lines/Palmer_2009/Palmer_methods.pdf\n/home/cc/CDIACPub8/oceans/SOOP_Roger_Revelle/RR2016/33RR20160602_PI_OME.pdf\n/home/cc/CDIACPub8/oceans/Benjamin/For_Stew/CdiacBundles/33WA/WS1209_Readme.pdf\n/home/cc/CDIACPub8/oceans/VOS_Gould_Lines/Gould_2007/GOULD_07_05_data_report.pdf\n/home/cc/CDIACPub8/CdiacBundles/74X1/LasC08-12_Readme.xml.pdf\n/home/cc/CDIACPub8/oceans/VOS_Explorer_line/EXP2011/ex1112_readme.txt\n/home/cc/CDIACPub8/oceans/VOS_Gould_Lines/Gould_2010/GOULD_10_08_data_report.pdf\n/home/cc/CDIACPub8/oceans/VOS_Palmer_Lines/Palmer_2000/Palmer_methods.pdf\n/home/cc/CDIACPub8/oceans/VOS_Explorer_line/EXP2014/33KF20141223_PI_OME.pdf\n/home/cc/CDIACPub8/oceans/VOS_Explorer_line/EXP2012/ex1213_readme.txt\n/home/cc/CDIACPub8/oceans/VOS_Ronald_Brown/RB2014/33RO20141006_PI_OME.pdf\n/home/cc/CDIACPub8/oceans/Walton_Smith_Coast/2016/33WA20160519_PI_OME.pdf\n/home/cc/CDIACPub8/CdiacBundles/33WA/WS1304_Readme.pdf\n/home/cc/CDIACPub8/CdiacBundles/33OA/2014_OscarDyson_Metadata.pdf\n/home/cc/CDIACPub8/oceans/keeling.data/TOGA.txt\n/home/cc/CDIACPub8/CdiacBundles/33WA/WS1312_Readme.pdf\n"
     ]
    }
   ],
   "source": [
    "img_data = []\n",
    "csv_data = []\n",
    "pdf_data = []\n",
    "dataset = [img_data, csv_data, pdf_data]\n",
    "for idx, data_list in enumerate(dataset):\n",
    "    curr_sample = []\n",
    "    if idx == 0:\n",
    "        curr_sample = img_sample_names\n",
    "    elif idx == 1:\n",
    "        curr_sample = csv_sample_names\n",
    "    else:\n",
    "        curr_sample = pdfs_sample_names\n",
    "   \n",
    "    for file_name in curr_sample:\n",
    "        #best_extractor_row_index = df.path[df.path==file_name].index.tolist()\n",
    "        if  file_name.endswith('.txt') or file_name.endswith('.pdf'):\n",
    "            best_extractor = 'freetext'\n",
    "        elif file_name.endswith('.csv') or file_name.endswith('.tsv'):\n",
    "            best_extractor = 'tabular'\n",
    "        elif file_name.endswith('.png') or file_name.endswith('.jpg'):\n",
    "            best_extractor = 'image'\n",
    "    \n",
    "\n",
    "        curr_file_data = file_data(file_name, byte_distr[file_name], two_grams_dicts[file_name], best_extractor)\n",
    "        data_list.append(curr_file_data)"
   ]
  },
  {
   "cell_type": "code",
   "execution_count": 7,
   "metadata": {},
   "outputs": [
    {
     "output_type": "stream",
     "name": "stdout",
     "text": [
      "Dumping!\n",
      "Dumped.\n"
     ]
    }
   ],
   "source": [
    "print('Dumping!')\n",
    "\n",
    "with open('gathered_data_revised_256.pkl', 'wb+') as handle:\n",
    "    pickle.dump(dataset, file=handle, protocol=pickle.HIGHEST_PROTOCOL)\n",
    "print('Dumped.')\n",
    "\n"
   ]
  },
  {
   "cell_type": "code",
   "execution_count": null,
   "metadata": {},
   "outputs": [],
   "source": []
  }
 ]
}