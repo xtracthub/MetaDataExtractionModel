{
 "metadata": {
  "language_info": {
   "codemirror_mode": {
    "name": "ipython",
    "version": 3
   },
   "file_extension": ".py",
   "mimetype": "text/x-python",
   "name": "python",
   "nbconvert_exporter": "python",
   "pygments_lexer": "ipython3",
   "version": "3.8.10"
  },
  "orig_nbformat": 4,
  "kernelspec": {
   "name": "python3",
   "display_name": "Python 3.8.10 64-bit"
  },
  "interpreter": {
   "hash": "e7370f93d1d0cde622a1f8e1c04877d8463912d04d973331ad4851f04de6915a"
  }
 },
 "nbformat": 4,
 "nbformat_minor": 2,
 "cells": [
  {
   "cell_type": "code",
   "execution_count": 33,
   "metadata": {},
   "outputs": [],
   "source": [
    "import os, json, pickle, csv, pandas\n",
    "import numpy as np\n",
    "from classDeclarations import file_data\n",
    "from random import sample\n",
    "MAX_SAMPLE_SIZE = 100"
   ]
  },
  {
   "cell_type": "code",
   "execution_count": 34,
   "metadata": {},
   "outputs": [
    {
     "output_type": "stream",
     "name": "stdout",
     "text": [
      "['', '0', '23', 'csv', 'doc', 'ds_store', 'otl', 'pdf', 'txt', 'temporaryitems', 'xls', 'zip', '_hydrochem_data', '_pacificasource', '_readme', '_crossover_plots', 'apdisk', 'avi', 'bmp', 'cdf', 'cfg', 'cfl', 'cid', 'csv', 'csv~', 'dat', 'db', 'dbf', 'des', 'dob', 'doc', 'docx', 'exe', 'fig', 'final', 'for', 'geos', 'gif', 'gmtcommands4', 'gz', 'hob', 'htm', 'html', 'idv', 'info', 'inp', 'inv', 'jnl', 'jpg', 'kmz', 'log', 'lst', 'm', 'mat', 'mp4', 'm~', 'nas', 'nc', 'note', 'pdf', 'png', 'ppt', 'prj', 'prn', 'ps', 'py', 'qc', 'rtf', 'save', 'sec', 'shp', 'shx', 'sta', 'tas', 'tsv', 'txt', 'txt~', 'uni', 'var', 'xls', 'xlsx', 'xml']\n"
     ]
    }
   ],
   "source": [
    "file_extensions = []\n",
    "with open(\"../file_extensions.txt\", \"r\") as fp_ext:\n",
    "    file_extensions = [line.rstrip() for line in fp_ext]\n",
    "\n",
    "\n",
    "file_extensions = [''] + [x.lower() for x in file_extensions]\n",
    "print(file_extensions)"
   ]
  },
  {
   "cell_type": "code",
   "execution_count": 35,
   "metadata": {},
   "outputs": [],
   "source": [
    "Path = \"../../CDIACPub8\"\n",
    "\n",
    "imgs = []\n",
    "tabular = []\n",
    "freetext = []\n",
    "json_xml = []\n",
    "netcdf = []\n",
    "unknown = []\n",
    "\n",
    "missing_count = 0\n",
    "df = pandas.read_csv('../CDIACFileData/labels/cdiac_naivetruth_processed.csv')\n",
    "\n",
    "\n",
    "labelSeriesObj = df['file_label']\n",
    "pathSeriesObj = df['path']\n",
    "\n",
    "\n",
    "for i in range(labelSeriesObj.size):\n",
    "    if labelSeriesObj[i] == 'image':\n",
    "        imgs.append(pathSeriesObj[i])\n",
    "    elif labelSeriesObj[i] == 'tabular':\n",
    "        tabular.append(pathSeriesObj[i])\n",
    "    elif labelSeriesObj[i] == 'freetext':\n",
    "        freetext.append(pathSeriesObj[i])\n",
    "    elif labelSeriesObj[i] == 'json/xml':\n",
    "        json_xml.append(pathSeriesObj[i])\n",
    "    elif labelSeriesObj[i] == 'netcdf':\n",
    "        netcdf.append(pathSeriesObj[i])\n",
    "    else: \n",
    "        unknown.append(pathSeriesObj[i])\n"
   ]
  },
  {
   "cell_type": "code",
   "execution_count": 54,
   "metadata": {},
   "outputs": [
    {
     "output_type": "stream",
     "name": "stdout",
     "text": [
      "loading files now...\n",
      "loading files done!\n"
     ]
    }
   ],
   "source": [
    "print(\"loading files now...\")\n",
    "\n",
    "with open('../CDIACFileData/one_gram_distr/one_grams_distr_sparse_256KB.pkl', \"rb\") as fp1:\n",
    "    one_gram = pickle.load(fp1)\n",
    "with open('../CDIACFileData/two_gram_distr/two_grams_distr_sparse_256KB.pkl', \"rb\") as fp2:\n",
    "    two_gram = pickle.load(fp2)\n",
    "\n",
    "print(\"loading files done!\")\n",
    "#byte_distr = pandas.DataFrame.from_dict(one_gram)\n",
    "#two_grams_dicts = pandas.DataFrame.from_dict(two_gram)\n",
    "#best_extractors = json.load(open(\"../CorrelatingExtractors/best_extractors.json\"))\n"
   ]
  },
  {
   "cell_type": "code",
   "execution_count": 55,
   "metadata": {},
   "outputs": [],
   "source": [
    "one_gram_new_index = one_gram.index.tolist()\n",
    "one_gram_new_index.append(\"file_type\")\n",
    "one_gram_new_index.append(\"file_size\")\n",
    "one_gram = one_gram.reindex(one_gram_new_index)\n",
    "\n",
    "two_gram_dicts_new_index = two_gram.index.tolist()\n",
    "two_gram_dicts_new_index.append(\"file_type\")\n",
    "two_gram_dicts_new_index.append(\"file_size\")\n",
    "two_gram = two_gram.reindex(two_gram_dicts_new_index)\n",
    "\n"
   ]
  },
  {
   "cell_type": "code",
   "execution_count": 56,
   "metadata": {},
   "outputs": [
    {
     "output_type": "stream",
     "name": "stdout",
     "text": [
      "Doing one gram\n",
      "moving onto two_gram...\n",
      "Done!\n"
     ]
    }
   ],
   "source": [
    "print('Doing one gram')\n",
    "one_gram = one_gram.sparse.to_dense()\n",
    "print('moving onto two_gram...')\n",
    "two_gram = two_gram.sparse.to_dense()\n",
    "print('Done!')"
   ]
  },
  {
   "cell_type": "code",
   "execution_count": 60,
   "metadata": {},
   "outputs": [],
   "source": [
    "img_sample_names = sample(imgs, MAX_SAMPLE_SIZE)\n",
    "tabular_sample_names = sample(tabular, MAX_SAMPLE_SIZE)\n",
    "freetext_sample_names = sample(freetext, MAX_SAMPLE_SIZE)\n",
    "json_xml_sample_names = sample(json_xml, MAX_SAMPLE_SIZE)\n",
    "netcdf_sample_names = sample(netcdf, MAX_SAMPLE_SIZE)\n",
    "unknown_sample_names = sample(unknown, MAX_SAMPLE_SIZE)"
   ]
  },
  {
   "cell_type": "code",
   "execution_count": 61,
   "metadata": {},
   "outputs": [
    {
     "output_type": "stream",
     "name": "stdout",
     "text": [
      "Done with index 0\nDone with index 1\nDone with index 2\nDone with index 3\nDone with index 4\nDone with index 5\n"
     ]
    }
   ],
   "source": [
    "img_data = []\n",
    "tabular_data = []\n",
    "freetext_data = []\n",
    "json_xml_data = []\n",
    "netcdf_data = []\n",
    "unknown_data = []\n",
    "dataset = [img_data, tabular_data, freetext_data, json_xml_data, netcdf_data, unknown_data]\n",
    "\n",
    "for idx, data_list in enumerate(dataset):\n",
    "    curr_sample = []\n",
    "    if idx == 0:\n",
    "        best_extractor = 'image'\n",
    "        curr_sample = img_sample_names\n",
    "    elif idx == 1:\n",
    "        best_extractor = 'tabular'\n",
    "        curr_sample = tabular_sample_names\n",
    "    elif idx == 2:\n",
    "        best_extractor = 'freetext'\n",
    "        curr_sample = freetext_sample_names\n",
    "    elif idx == 3:\n",
    "        best_extractor = 'json/xml'\n",
    "        curr_sample = json_xml_sample_names\n",
    "    elif idx == 4:\n",
    "        best_extractor = 'netcdf'\n",
    "        curr_sample = netcdf_sample_names\n",
    "    elif idx == 5:\n",
    "        best_extractor = 'unknown'\n",
    "        curr_sample = unknown_sample_names\n",
    "    print(\"Done with index\", idx)\n",
    "\n",
    "    for file_name in curr_sample:\n",
    "        #best_extractor_row_index = df.path[df.path==file_name].index.tolist()\n",
    "\n",
    "        name, extension = os.path.splitext(file_name) # file_name actually holds file path\n",
    "        extension = extension[1:].lower()\n",
    "\n",
    "        one_gram.at['file_type', file_name] = file_extensions.index(extension)\n",
    "        two_gram.at['file_type', file_name] = file_extensions.index(extension)\n",
    "          \n",
    "        one_gram.at['file_size', file_name] = os.path.getsize(file_name)\n",
    "        two_gram.at['file_size', file_name] = os.path.getsize(file_name)\n",
    "\n",
    "        curr_file_data = file_data(file_name, one_gram[file_name], two_gram[file_name], best_extractor)\n",
    "        data_list.append(curr_file_data)"
   ]
  },
  {
   "cell_type": "code",
   "execution_count": 62,
   "metadata": {},
   "outputs": [
    {
     "output_type": "stream",
     "name": "stdout",
     "text": [
      "Dumping!\n",
      "Dumped.\n"
     ]
    }
   ],
   "source": [
    "print('Dumping!')\n",
    "\n",
    "with open('gathered_data_distr/sample3/byte_distr_sample_256KB_v3', 'wb+') as handle:\n",
    "    pickle.dump(dataset, file=handle, protocol=pickle.HIGHEST_PROTOCOL)\n",
    "print('Dumped.')\n",
    "\n"
   ]
  },
  {
   "cell_type": "code",
   "execution_count": null,
   "metadata": {},
   "outputs": [],
   "source": []
  }
 ]
}