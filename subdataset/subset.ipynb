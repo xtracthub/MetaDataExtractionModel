{
 "metadata": {
  "language_info": {
   "codemirror_mode": {
    "name": "ipython",
    "version": 3
   },
   "file_extension": ".py",
   "mimetype": "text/x-python",
   "name": "python",
   "nbconvert_exporter": "python",
   "pygments_lexer": "ipython3",
   "version": "3.8.5"
  },
  "orig_nbformat": 4,
  "kernelspec": {
   "name": "python3",
   "display_name": "Python 3.8.5 64-bit"
  },
  "interpreter": {
   "hash": "e7370f93d1d0cde622a1f8e1c04877d8463912d04d973331ad4851f04de6915a"
  }
 },
 "nbformat": 4,
 "nbformat_minor": 2,
 "cells": [
  {
   "cell_type": "code",
   "execution_count": 1,
   "metadata": {},
   "outputs": [],
   "source": [
    "import os, json, pickle, csv, pandas\n",
    "import numpy as np\n",
    "from classDeclarations import file_data\n",
    "from random import sample\n",
    "MAX_SAMPLE_SIZE = 100"
   ]
  },
  {
   "cell_type": "code",
   "execution_count": 2,
   "metadata": {},
   "outputs": [
    {
     "output_type": "stream",
     "name": "stderr",
     "text": [
      "/home/cc/.local/lib/python3.8/site-packages/pandas/core/strings/accessor.py:101: UserWarning: This pattern has match groups. To actually get the groups, use str.extract.\n  return func(self, *args, **kwargs)\n"
     ]
    }
   ],
   "source": [
    "Path = \"../../CDIACPub8\"\n",
    "\n",
    "imgs = []\n",
    "csvs = []\n",
    "pdfs = []\n",
    "\n",
    "missing_count = 0\n",
    "df = pandas.read_csv('../cdiac_naivetruth_processed.csv')\n",
    "for subdir, dirs, files in os.walk(Path):\n",
    "    for file_name in files:\n",
    "        file_path = os.path.abspath(os.path.join(subdir, file_name))\n",
    "        if df['path'].str.contains(file_name).any():\n",
    "            if file_path.endswith('.png') or file_path.endswith('.jpg'):\n",
    "                imgs.append(file_path)\n",
    "            elif file_path.endswith('.csv') or file_path.endswith('.tsv'):\n",
    "                csvs.append(file_path)\n",
    "            elif file_path.endswith('.pdf') or file_path.endswith('.txt'):\n",
    "                pdfs.append(file_path)\n",
    "        else:\n",
    "            missing_count += 1\n",
    "\n",
    "\n",
    "img_sample_names = sample(imgs, MAX_SAMPLE_SIZE)\n",
    "csv_sample_names = sample(csvs, MAX_SAMPLE_SIZE)\n",
    "pdfs_sample_names = sample(pdfs, MAX_SAMPLE_SIZE)"
   ]
  },
  {
   "cell_type": "code",
   "execution_count": 5,
   "metadata": {},
   "outputs": [
    {
     "output_type": "stream",
     "name": "stdout",
     "text": [
      "loading files now...\n",
      "loading files done!\n"
     ]
    }
   ],
   "source": [
    "print(\"loading files now...\")\n",
    "one_gram = json.load(open('../one_grams_distr.json', 'r'))\n",
    "two_gram = json.load(open('../two_grams_distr.json', 'r'))\n",
    "\n",
    "byte_distr = pandas.DataFrame.from_dict(one_gram)\n",
    "two_grams_dicts = pandas.DataFrame.from_dict(two_gram)\n",
    "#best_extractors = json.load(open(\"../CorrelatingExtractors/best_extractors.json\"))\n",
    "print(\"loading files done!\")"
   ]
  },
  {
   "cell_type": "code",
   "execution_count": 15,
   "metadata": {},
   "outputs": [
    {
     "output_type": "stream",
     "name": "stdout",
     "text": [
      "/home/cc/CDIACPub8/oceans/VOS_Polarstern/2008/._README.txt\n/home/cc/CDIACPub8/oceans/Benjamin/For_Stew/CdiacBundles/61TG/TAN1311 Tangaroa pCO2 dataset report SOCAT.pdf\n/home/cc/CDIACPub8/oceans/Benjamin/For_Stew/CdiacBundles/33H3/MGLangseth_13_2_data_report.pdf\n/home/cc/CDIACPub8/oceans/NOAA_Workshop/Lequere_Data/OPA_npzd_month_pco2.txt\n/home/cc/CDIACPub8/oceans/VOS_Palmer_Lines/Palmer_2002/PALM_02_01_data_report.pdf\n/home/cc/CDIACPub8/oceans/NOAA_Workshop/ROMS_FeiChai_Data/roms_EqPacW.txt\n/home/cc/CDIACPub8/oceans/CLIVAR/A16N_2013/33RO20130803do.pdf\n/home/cc/CDIACPub8/oceans/Moorings/NH10_124W_44N/README.txt\n/home/cc/CDIACPub8/oceans/keeling.data/GC92.txt\n/home/cc/CDIACPub8/oceans/VOS_Explorer_line/EXP2014/33KF20140329_PI_OME.pdf\n/home/cc/CDIACPub8/oceans/Moorings/TAO165E8S/._README.txt\n/home/cc/CDIACPub8/oceans/VOS_Explorer_line/EXP2013/33KF20130725_PI_OME.pdf\n/home/cc/CDIACPub8/CdiacBundles/33HH/HB1501-Leg3.pdf\n/home/cc/CDIACPub8/oceans/Moorings/Iceland_12W_68N/README.txt\n/home/cc/CDIACPub8/CdiacBundles/33HH/HB1401-l4_readme.pdf\n/home/cc/CDIACPub8/oceans/Moorings/Heron_152E_23S/09FS20110420_MAI_1.pdf\n/home/cc/CDIACPub8/oceans/minerve7_28fr/min14.txt\n/home/cc/CDIACPub8/oceans/VOS_Skogafoss_2_Lines/SKO2015/._README.txt\n/home/cc/CDIACPub8/oceans/NOAA_Workshop/Lequere_Data/CNES_ssh_dtrend.txt\n/home/cc/CDIACPub8/oceans/i06bwoce/i06sbdo.pdf\n/home/cc/CDIACPub8/oceans/Benjamin/For_Stew/CdiacBundles/33GG/GU1404-Leg1_Readme.pdf\n/home/cc/CDIACPub8/oceans/inoue81_89jap/WE88.txt\n/home/cc/CDIACPub8/CdiacBundles/33WA/WS1206_Readme.pdf\n/home/cc/CDIACPub8/oceans/VOS_Palmer_Lines/Palmer_2002/PALM_02_07_data_report.pdf\n/home/cc/CDIACPub8/oceans/Benjamin/For_Stew/CdiacBundles/33HH/PI_OME.pdf\n/home/cc/CDIACPub8/oceans/NOAA_Workshop/Lequere_Data/subtrop_month.txt\n/home/cc/CDIACPub8/oceans/FerryBox_Roscoff_Plymouth/2013/35AQ20130315_PI_OME.pdf\n/home/cc/CDIACPub8/CdiacBundles/33GG/GU1001-Leg1.pdf\n/home/cc/CDIACPub8/oceans/VOS_Allure_line/2016/BHAF20160904_PI_OME.pdf\n/home/cc/CDIACPub8/CdiacBundles/33GC/OCEAN Mercury Metadata Gulf_of_Maine_Coastal_Cruises.pdf\n/home/cc/CDIACPub8/oceans/VOS_Gould_Lines/Gould_2010/GOULD_10_03_data_report.pdf\n/home/cc/CDIACPub8/oceans/2nd_QC_Tool_V2/2QC_matlab_toolbox_160725/readme_160725.txt\n/home/cc/CDIACPub8/oceans/VOS_Skaugran_Line/Data_final/SK36E.txt\n/home/cc/CDIACPub8/oceans/VOS_Skogafoss_Lines/SKO2004/sko416_readme.txt\n/home/cc/CDIACPub8/CdiacBundles/AGFO/SKO20140727_Readme.pdf\n/home/cc/CDIACPub8/oceans/NOAA_Workshop/NCOM_FeiChai_Data/ncom_KNOT.txt\n/home/cc/CDIACPub8/CdiacBundles/33HH/HB1206_readme.pdf\n/home/cc/CDIACPub8/oceans/VOS_Tangaroa/2013/61TG20130701_datase_ report.pdf\n/home/cc/CDIACPub8/oceans/NACP_West_Coast_Cruise_2007/._README.txt\n/home/cc/CDIACPub8/oceans/VOS_Ronald_Brown/RB2016/README.txt\n/home/cc/CDIACPub8/oceans/Benjamin/For_Stew/CdiacBundles/33WA/WS15234_Readme.pdf\n/home/cc/CDIACPub8/oceans/VOS_Equinox_line/EQNX_2015/MLCE20151015_PI_OME.pdf\n/home/cc/CDIACPub8/oceans/VOS_Las_Cuevas/2012/74X120120712_PI_OME.pdf\n/home/cc/CDIACPub8/oceans/VOS_Polarstern/2014/06AQ20140707_PI_OME.pdf\n/home/cc/CDIACPub8/oceans/SOOP_Roger_Revelle/RR2016/33RR20160602_PI_OME.pdf\n/home/cc/CDIACPub8/oceans/Benjamin/For_Stew/CdiacBundles/33WA/WS1309_Readme.pdf\n/home/cc/CDIACPub8/oceans/Benjamin/For_Stew/CdiacBundles/33KF/EX1331_Readme.pdf\n/home/cc/CDIACPub8/oceans/VOS_Palmer_Lines/Palmer_1996/Palmer_methods.pdf\n/home/cc/CDIACPub8/oceans/Bigelow_ECoast/HB2014/33HH20140618_PI_OME.pdf\n/home/cc/CDIACPub8/oceans/VOS_Ronald_Brown/RB2015/33RO20150525_PI_OME.pdf\n/home/cc/CDIACPub8/oceans/VOS_Palmer_Lines/Palmer_2009/PalmerGouldEncount_Final102009.pdf\n/home/cc/CDIACPub8/oceans/Benjamin/For_Stew/CdiacBundles/33WA/WS1418_Readme.pdf\n/home/cc/CDIACPub8/oceans/Benjamin/For_Stew/CdiacBundles/33WA/WS1416_Readme.pdf\n/home/cc/CDIACPub8/oceans/VOS_Skogafoss_2_Lines/SKO2016/AGFO20160128_PI_OME.pdf\n/home/cc/CDIACPub8/oceans/VOS_Gould_Lines/Gould_2014/LMG1403_data_report.pdf\n/home/cc/CDIACPub8/oceans/VOS_Polarstern/2010/._README.txt\n/home/cc/CDIACPub8/oceans/Handbook_2007/Persian/Chapter1_Persian.pdf\n/home/cc/CDIACPub8/oceans/CLIVAR/P16S_2014/p16s_320620140320do.pdf\n/home/cc/CDIACPub8/oceans/MRI_1968_2003/Shirase_I/MRI_dic_metadata.pdf\n/home/cc/CDIACPub8/oceans/minerve7_28fr/README.txt\n/home/cc/CDIACPub8/oceans/Moorings/SOFS_142W_46S/README.txt\n/home/cc/CDIACPub8/oceans/Moorings/TAO170W_0N/README.txt\n/home/cc/CDIACPub8/oceans/CLIVAR/I05_2002.data/CORRECTIONS ON THE CD139 DATA BASE.pdf\n/home/cc/CDIACPub8/oceans/Moorings/TAO155W_05/TAO155w_Jun05_Aug08_Meta.pdf\n/home/cc/CDIACPub8/oceans/VOS_Explorer_line/EXP2010/ex1043_readme.txt\n/home/cc/CDIACPub8/oceans/NOAA_Workshop/McKinley_Data/co2flx_regions_anomaly.txt\n/home/cc/CDIACPub8/oceans/VOS_Barcelona_Express/2010/BMBE20100302_PI_OME.pdf\n/home/cc/CDIACPub8/oceans/CLIVAR/P10_2011/P10_2011_databook.pdf\n/home/cc/CDIACPub8/oceans/VOS_Allure_line/2016/BHAF20160522_PI_OME.pdf\n/home/cc/CDIACPub8/oceans/VOS_Polarstern/2014/06AQ20141026_PI_OME.pdf\n/home/cc/CDIACPub8/oceans/VOS_Explorer_line/EXP2011/ex1133_readme.txt\n/home/cc/CDIACPub8/oceans/VOS_Tangaroa/2016/61TG20160509_PI_OME.pdf\n/home/cc/CDIACPub8/oceans/VOS_Palmer_Lines/Palmer_2006/PALM_06_02_data_report.pdf\n/home/cc/CDIACPub8/oceans/VOS_Atlantic_Companion_Line/COM_2014/COM_14-03_metadata.txt\n/home/cc/CDIACPub8/oceans/VOS_Skogafoss_2_Lines/SKO2015/AGFO20150703_PI_OME.pdf\n/home/cc/CDIACPub8/oceans/artheworld95noaa/Old_Data/mb95-01.txt\n/home/cc/CDIACPub8/oceans/VOS_Explorer_line/EXP2012/ex1223_readme.txt\n/home/cc/CDIACPub8/oceans/VOS_Skogafoss_Lines/SKO2005/sko512_readme.txt\n/home/cc/CDIACPub8/oceans/SOCCOM/ANTXXX_2/PS89_Expedition_programme.pdf\n/home/cc/CDIACPub8/CdiacBundles/61TG/TAN1306 pCO2 dataset report SOCAT.pdf\n/home/cc/CDIACPub8/oceans/VOS_Gould_Lines/Gould_2007/GOULD_07_03_data_report.pdf\n/home/cc/CDIACPub8/oceans/BIOZAIRE3/._README.txt\n/home/cc/CDIACPub8/oceans/VOS_Gould_Lines/Gould_2008/GOULD_08_08_data_report.pdf\n/home/cc/CDIACPub8/oceans/Handbook_2007/sop06a.pdf\n/home/cc/CDIACPub8/oceans/Benjamin/For_Stew/CdiacBundles/33HH/HB1401-l2_readme.pdf\n/home/cc/CDIACPub8/oceans/VOS_Explorer_line/EXP2010/ex1004_readme.txt\n/home/cc/CDIACPub8/oceans/bakker_ANT.data/ANTX6_fCO2.txt\n/home/cc/CDIACPub8/oceans/a01ewwoce/a01ewdo.pdf\n/home/cc/CDIACPub8/oceans/VOS_Keifu_Maru_Line_V2/KeifuMaru_2012_2013/Keifu_Maru_2012_2013_rev.pdf\n/home/cc/CDIACPub8/oceans/Gordon_Gunter/2008/gu0805_leg2_readme.txt\n/home/cc/CDIACPub8/oceans/Benjamin/For_Stew/CdiacBundles/74EQ/PI_OME.pdf\n/home/cc/CDIACPub8/oceans/SOCATv1.5/SOCATv1.5_NorthPacific_2011_09_22.txt\n/home/cc/CDIACPub8/oceans/VOS_Tangaroa/2013/61TG20130701_PI_OME.pdf\n/home/cc/CDIACPub8/oceans/Moorings/TAO170W_0N/TAO170W_0N_Jun2009_Dec2009_Meta.pdf\n/home/cc/CDIACPub8/oceans/VOS_Palmer_Lines/Palmer_2006/PALM_06_01A_data_report.pdf\n/home/cc/CDIACPub8/oceans/IR06_1995/ir06_bdo.pdf\n/home/cc/CDIACPub8/oceans/AJAX_1983/ajax_report.pdf\n/home/cc/CDIACPub8/oceans/Moorings/TAO140W/README.txt\n/home/cc/CDIACPub8/oceans/Handbook_2007/Japanese/Chap_1.pdf\n/home/cc/CDIACPub8/oceans/VOS_Palmer_Lines/Palmer_2014/PALM_14_09_data_report.pdf\n"
     ]
    }
   ],
   "source": [
    "img_data = []\n",
    "csv_data = []\n",
    "pdf_data = []\n",
    "dataset = [img_data, csv_data, pdf_data]\n",
    "for idx, data_list in enumerate(dataset):\n",
    "    curr_sample = []\n",
    "    if idx == 0:\n",
    "        curr_sample = img_sample_names\n",
    "    elif idx == 1:\n",
    "        curr_sample = csv_sample_names\n",
    "    else:\n",
    "        curr_sample = pdfs_sample_names\n",
    "   \n",
    "    for file_name in curr_sample:\n",
    "        #best_extractor_row_index = df.path[df.path==file_name].index.tolist()\n",
    "        if len(best_extractor_row_index) < 1 or file_name.endswith('.txt') or file_name.endswith('.pdf'):\n",
    "            best_extractor = 'freetext'\n",
    "            print(file_name)\n",
    "        elif file_name.endswith('.csv') or file_name.endswith('.tsv'):\n",
    "            best_extractor = 'tabular'\n",
    "        elif file_name.endswith('.png') or file_name.endswith('.jpg'):\n",
    "            best_extractor = 'image'\n",
    "        #else:\n",
    "            #best_extractor = str(df.iloc[best_extractor_row_index[0]]['file_label'])\n",
    "        curr_file_data = file_data(file_name, byte_distr[file_name], two_grams_dicts[file_name], best_extractor)\n",
    "        data_list.append(curr_file_data)"
   ]
  },
  {
   "cell_type": "code",
   "execution_count": 16,
   "metadata": {},
   "outputs": [
    {
     "output_type": "stream",
     "name": "stdout",
     "text": [
      "Dumping!\n",
      "Dumped.\n"
     ]
    }
   ],
   "source": [
    "print('Dumping!')\n",
    "\n",
    "with open('gathered_data_revised_v4.pkl', 'wb+') as handle:\n",
    "    pickle.dump(dataset, file=handle, protocol=pickle.HIGHEST_PROTOCOL)\n",
    "print('Dumped.')\n",
    "\n"
   ]
  },
  {
   "cell_type": "code",
   "execution_count": null,
   "metadata": {},
   "outputs": [],
   "source": []
  }
 ]
}