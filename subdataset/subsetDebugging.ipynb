{
 "metadata": {
  "language_info": {
   "codemirror_mode": {
    "name": "ipython",
    "version": 3
   },
   "file_extension": ".py",
   "mimetype": "text/x-python",
   "name": "python",
   "nbconvert_exporter": "python",
   "pygments_lexer": "ipython3",
   "version": "3.8.5"
  },
  "orig_nbformat": 4,
  "kernelspec": {
   "name": "python3",
   "display_name": "Python 3.8.5 64-bit"
  },
  "interpreter": {
   "hash": "e7370f93d1d0cde622a1f8e1c04877d8463912d04d973331ad4851f04de6915a"
  }
 },
 "nbformat": 4,
 "nbformat_minor": 2,
 "cells": [
  {
   "cell_type": "code",
   "execution_count": 4,
   "metadata": {},
   "outputs": [],
   "source": [
    "import os, json, pickle, csv, pandas\n",
    "import numpy as np\n",
    "from classDeclarations import file_data\n",
    "from random import sample\n",
    "MAX_SAMPLE_SIZE = 100\n",
    "\n",
    "Path = \"../../CDIACPub8\"\n",
    "\n",
    "imgs = []\n",
    "csvs = []\n",
    "pdfs = []"
   ]
  },
  {
   "cell_type": "code",
   "execution_count": 5,
   "metadata": {},
   "outputs": [
    {
     "output_type": "stream",
     "name": "stderr",
     "text": [
      "/home/cc/.local/lib/python3.8/site-packages/pandas/core/strings/accessor.py:101: UserWarning: This pattern has match groups. To actually get the groups, use str.extract.\n  return func(self, *args, **kwargs)\n"
     ]
    }
   ],
   "source": [
    "missing_count = 0\n",
    "df = pandas.read_csv('../cdiac_naivetruth_processed.csv')\n",
    "for subdir, dirs, files in os.walk(Path):\n",
    "    for file_name in files:\n",
    "        file_path = os.path.abspath(os.path.join(subdir, file_name))\n",
    "        if df['path'].str.contains(file_name).any():\n",
    "            if file_path.endswith('.png') or file_path.endswith('.jpg'):\n",
    "                imgs.append(file_path)\n",
    "            elif file_path.endswith('.csv') or file_path.endswith('.tsv'):\n",
    "                csvs.append(file_path)\n",
    "            elif file_path.endswith('.pdf') or file_path.endswith('.txt'):\n",
    "                pdfs.append(file_path)\n",
    "        else:\n",
    "            missing_count += 1\n",
    "\n",
    "\n",
    "img_sample_names = sample(imgs, MAX_SAMPLE_SIZE)\n",
    "csv_sample_names = sample(csvs, MAX_SAMPLE_SIZE)\n",
    "pdfs_sample_names = sample(pdfs, MAX_SAMPLE_SIZE)"
   ]
  },
  {
   "cell_type": "code",
   "execution_count": 6,
   "metadata": {},
   "outputs": [
    {
     "output_type": "stream",
     "name": "stdout",
     "text": [
      "/home/cc/CDIACPub8/oceans/Benjamin/For_Stew/CdiacBundles/06AQ/2014-07 PS86_MAP.png\n/home/cc/CDIACPub8/oceans/VOS_GOSars/2011/GOSARS_2011.jpg\n/home/cc/CDIACPub8/oceans/VOS_Polarstern/2010/2010-04_ANT26-4_MAP.png\n/home/cc/CDIACPub8/oceans/Benjamin/For_Stew/CdiacBundles/06AQ/2014-03 PS83_MAP.png\n/home/cc/CDIACPub8/oceans/All_Oceans_GLODAP_ODV/GLODAP-v1.1/bottle/plots/i05ealk.jpg\n/home/cc/CDIACPub8/oceans/All_Oceans_GLODAP_ODV/GLODAP-v1.1/bottle/plots/save3.jpg\n/home/cc/CDIACPub8/GLODAP-v1.1/bottle/plots/p02dic.jpg\n/home/cc/CDIACPub8/oceans/Bigelow_ECoast/HB2016/Bigelow2016_map.jpg\n/home/cc/CDIACPub8/oceans/VOS_Polarstern/2011/2011-12_ANT28-2_MAP.png\n/home/cc/CDIACPub8/oceans/SOCATv3/SOCAT_cat_logo.jpg\n/home/cc/CDIACPub8/oceans/NDP_094/ph_maps/julphmap.jpg\n/home/cc/CDIACPub8/oceans/NDP_094/ph_maps/mayphmap.jpg\n/home/cc/CDIACPub8/oceans/CLIVAR/AR04_06MT20050813/06MT20050813.jpg\n/home/cc/CDIACPub8/oceans/All_Oceans_GLODAP_ODV/GLODAP-v1.1/bottle/plots/p21dic.jpg\n/home/cc/CDIACPub8/oceans/NDP_094/talk_maps/dectalkmap.jpg\n/home/cc/CDIACPub8/oceans/All_Oceans_GLODAP_ODV/GLODAP-v1.1/bottle/plots/a17alk.jpg\n/home/cc/CDIACPub8/CdiacBundles/74JC/JCR_2013_map.jpg\n/home/cc/CDIACPub8/oceans/VOS_JHjort/2008/J_Hjort_2008.jpg\n/home/cc/CDIACPub8/oceans/NOAA_Workshop/Lequere_Data/eqpacw.jpg\n/home/cc/CDIACPub8/oceans/NDP_094/talk_maps/martalkmap.jpg\n/home/cc/CDIACPub8/oceans/NOAA_Workshop/McKinley_Data/Tropical.jpg\n/home/cc/CDIACPub8/oceans/VOS_STRASSE/STRASSE_Map.jpg\n/home/cc/CDIACPub8/oceans/CEND/CEND1413/CEND_14_13.jpg\n/home/cc/CDIACPub8/oceans/All_Oceans_GLODAP_ODV/GLODAP-v1.1/bottle/plots/save4dic.jpg\n/home/cc/CDIACPub8/oceans/Benjamin/For_Stew/CdiacBundles/06AQ/2015-05 PS92_Report-page-1.png\n/home/cc/CDIACPub8/oceans/ISS01woce_1994/74DI19940219.jpg\n/home/cc/CDIACPub8/oceans/NDP_094/pco2_maps/seppc05map.jpg\n/home/cc/CDIACPub8/oceans/NOAA_Workshop/NCOM_FeiChai_Data/ncom_KNOT.jpg\n/home/cc/CDIACPub8/oceans/SOCATv4/SOCATv4_Gridded_Dat/SOCAT_cat_logo.png\n/home/cc/CDIACPub8/oceans/NDP_094/talk_maps/octtalkmap.jpg\n/home/cc/CDIACPub8/oceans/VOS_Ronald_Brown/RB2011/RHB_2011.jpg\n/home/cc/CDIACPub8/oceans/NDP_094/talk_maps/juntalkmap.jpg\n/home/cc/CDIACPub8/oceans/SOCATv4/SOCAT_cat_logo.png\n/home/cc/CDIACPub8/GLODAP-v1.1/bottle/plots/s04a.jpg\n/home/cc/CDIACPub8/oceans/VOS_Polarstern/2015/06AQ20150629_MAP.png\n/home/cc/CDIACPub8/oceans/a11_1992woce/74DI19921222.jpg\n/home/cc/CDIACPub8/oceans/CLIVAR/AR07E_2005/64PE240_CT_2005.jpg\n/home/cc/CDIACPub8/oceans/artheworld95noaa/MB_95_map.jpg\n/home/cc/CDIACPub8/oceans/All_Oceans_GLODAP_ODV/GLODAP-v1.1/bottle/plots/p01alk.jpg\n/home/cc/CDIACPub8/CdiacBundles/06AQ/2015-07 PS93_MAP.png\n/home/cc/CDIACPub8/oceans/VOS_GOSars/2005/GOSARS_2005.jpg\n/home/cc/CDIACPub8/oceans/CLIVAR/AR07E_2005/64PE240_AT_2005.jpg\n/home/cc/CDIACPub8/GLODAP-v1.1/bottle/plots/a08alk.jpg\n/home/cc/CDIACPub8/oceans/CLIVAR/A12_06AQ20120107/06AQ20120107.jpg\n/home/cc/CDIACPub8/oceans/VOS_Polarstern/2012/2012-04_ANT28-5_MAP.png\n/home/cc/CDIACPub8/oceans/Walton_Smith_Coast/Walton_Smith_map.jpg\n/home/cc/CDIACPub8/oceans/CARINA/06AQ19840719/06AQ19840719.jpg\n/home/cc/CDIACPub8/oceans/All_Oceans_GLODAP_ODV/GLODAP-v1.1/bottle/plots/i08nalk.jpg\n/home/cc/CDIACPub8/oceans/NDP_094/pco2_maps/junpc05map.jpg\n/home/cc/CDIACPub8/oceans/CEND/CEND2013/CEND_20_13.jpg\n/home/cc/CDIACPub8/oceans/All_Oceans_GLODAP_ODV/GLODAP-v1.1/bottle/plots/p09dic.jpg\n/home/cc/CDIACPub8/oceans/All_Oceans_GLODAP_ODV/GLODAP-v1.1/bottle/plots/p01dic.jpg\n/home/cc/CDIACPub8/oceans/CEND/CEND1412/CEND_14_12.jpg\n/home/cc/CDIACPub8/oceans/All_Oceans_GLODAP_ODV/GLODAP-v1.1/bottle/plots/s04ialk.jpg\n/home/cc/CDIACPub8/oceans/LDEO_Database/Version_2013/LDEO_Database_V2013.jpg\n/home/cc/CDIACPub8/GLODAP-v1.1/bottle/plots/atlantic_GLODAP_map.jpg\n/home/cc/CDIACPub8/oceans/NACP_East_Coast_Cruise/Map_East_Coast_Cruise.jpg\n/home/cc/CDIACPub8/oceans/NOAA_Workshop/ROMS_FeiChai_Data/roms_EqPac.jpg\n/home/cc/CDIACPub8/GLODAP-v1.1/bottle/plots/pacific_map.jpg\n/home/cc/CDIACPub8/oceans/OISO_line/OISO_25.data/OISO25.jpg\n/home/cc/CDIACPub8/oceans/All_Oceans_GLODAP_ODV/GLODAP-v1.1/bottle/plots/atlantic_GLODAP.jpg\n/home/cc/CDIACPub8/oceans/All_Oceans_GLODAP_ODV/GLODAP-v1.1/bottle/plots/a20dic.jpg\n/home/cc/CDIACPub8/oceans/CFC_ATM_Hist/CFC_ATM_Hist_2014/bullister_atmospheric_history_2014.png\n/home/cc/CDIACPub8/oceans/CEND/CEND0813/CEND_08_13.jpg\n/home/cc/CDIACPub8/oceans/All_Oceans_GLODAP_ODV/GLODAP-v1.1/bottle/plots/a14alk.jpg\n/home/cc/CDIACPub8/oceans/CLIVAR/ARKXXVII_1/ARKXXVII_1.jpg\n/home/cc/CDIACPub8/oceans/All_Oceans_GLODAP_ODV/GLODAP-v1.1/bottle/plots/a05alk.jpg\n/home/cc/CDIACPub8/GLODAP-v1.1/bottle/plots/a02alk.jpg\n/home/cc/CDIACPub8/CdiacBundles/09AR/AA_2012.jpg\n/home/cc/CDIACPub8/oceans/CEND/CEND2012/CEND_20_12.jpg\n/home/cc/CDIACPub8/oceans/VOS_Polarstern/2014/06AQ20140608_MAP.png\n/home/cc/CDIACPub8/oceans/CLIVAR/ISSS_08/ISSS-08.jpg\n/home/cc/CDIACPub8/oceans/NDP_094/omg_calcite_maps/mayomgcalcmap.jpg\n/home/cc/CDIACPub8/oceans/Delware_2012/DE1202.jpg\n/home/cc/CDIACPub8/oceans/SAB_data/SAB.jpg\n/home/cc/CDIACPub8/oceans/CEND/CEND1812/CEND_18_12.jpg\n/home/cc/CDIACPub8/oceans/VOS_Aurora_Lines/AA_2011/AA_2011.jpg\n/home/cc/CDIACPub8/oceans/eqpac92noaa/EQ92_Fall/31DS19920907.jpg\n/home/cc/CDIACPub8/oceans/NDP_094/pco2_maps/julpc05map.jpg\n/home/cc/CDIACPub8/oceans/VOS_Southern_Surveyor/SS_2008_2010/SS_2008_2010.jpg\n/home/cc/CDIACPub8/GLODAP-v1.1/bottle/plots/a09dic.jpg\n/home/cc/CDIACPub8/GLODAP-v1.1/bottle/plots/p10alk.jpg\n/home/cc/CDIACPub8/oceans/GLODAPv2/316N19831113/316N19831113.jpg\n/home/cc/CDIACPub8/oceans/All_Oceans_GLODAP_ODV/GLODAP-v1.1/bottle/plots/a01edic.jpg\n/home/cc/CDIACPub8/oceans/All_Oceans_GLODAP_ODV/GLODAP-v1.1/bottle/plots/a08dic.jpg\n/home/cc/CDIACPub8/oceans/PACIFICA/Line_P/Line_P_map.jpg\n/home/cc/CDIACPub8/GLODAP-v1.1/bottle/plots/p14dic.jpg\n/home/cc/CDIACPub8/oceans/WCOA2011/WCOA2011.jpg\n/home/cc/CDIACPub8/oceans/VOS_James_C_Ross/JCR_2009/JCR_200.jpg\n/home/cc/CDIACPub8/oceans/Bigelow_ECoast/HB2014/Bigelow2014_map.jpg\n/home/cc/CDIACPub8/oceans/VOS_Southern_Surveyor/SS_2011/SS_2011.jpg\n/home/cc/CDIACPub8/oceans/NDP_094/ph_maps/novphmap.jpg\n/home/cc/CDIACPub8/oceans/GLODAPv2/GEOSECS_Pacific/GEOSECS_PAC.jpg\n/home/cc/CDIACPub8/GLODAP-v1.1/bottle/plots/p16dic.jpg\n/home/cc/CDIACPub8/oceans/All_Oceans_GLODAP_ODV/GLODAP-v1.1/bottle/plots/a05dic.jpg\n/home/cc/CDIACPub8/oceans/NDP_094/pco2_maps/augpc05map.jpg\n/home/cc/CDIACPub8/oceans/VOS_Polarstern/2012/2012-03_ANT28-4_MAP.png\n/home/cc/CDIACPub8/GLODAP-v1.1/bottle/plots/a20dic.jpg\n/home/cc/CDIACPub8/oceans/Moorings/TS_K2/K2.jpg\n/home/cc/CDIACPub8/oceans/All_Oceans_GLODAP_ODV/GLODAP-v1.1/bottle/plots/sr3dic.jpg\n"
     ]
    }
   ],
   "source": [
    "img_sample_names = sample(imgs, MAX_SAMPLE_SIZE)\n",
    "csv_sample_names = sample(csvs, MAX_SAMPLE_SIZE)\n",
    "pdfs_sample_names = sample(pdfs, MAX_SAMPLE_SIZE)\n",
    "\n",
    "for name in img_sample_names:\n",
    "    print(name)"
   ]
  },
  {
   "cell_type": "code",
   "execution_count": null,
   "metadata": {},
   "outputs": [],
   "source": []
  }
 ]
}