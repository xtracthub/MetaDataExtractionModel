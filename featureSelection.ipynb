{
 "metadata": {
  "language_info": {
   "codemirror_mode": {
    "name": "ipython",
    "version": 3
   },
   "file_extension": ".py",
   "mimetype": "text/x-python",
   "name": "python",
   "nbconvert_exporter": "python",
   "pygments_lexer": "ipython3",
   "version": "3.8.5"
  },
  "orig_nbformat": 4,
  "kernelspec": {
   "name": "python3",
   "display_name": "Python 3.8.5 64-bit"
  },
  "interpreter": {
   "hash": "e7370f93d1d0cde622a1f8e1c04877d8463912d04d973331ad4851f04de6915a"
  }
 },
 "nbformat": 4,
 "nbformat_minor": 2,
 "cells": [
  {
   "cell_type": "code",
   "execution_count": 1,
   "metadata": {},
   "outputs": [],
   "source": [
    "import os, json, pickle, csv, pandas\n",
    "import numpy as np\n",
    "import pandas as pd\n",
    "from sklearn.datasets import load_iris\n",
    "from sklearn.feature_selection import RFE\n",
    "from sklearn.linear_model import LogisticRegression\n",
    "from yellowbrick.model_selection import feature_importances\n",
    "from sklearn.manifold import TSNE\n",
    "from sklearn.pipeline import Pipeline\n",
    "\n"
   ]
  },
  {
   "cell_type": "code",
   "execution_count": 3,
   "metadata": {},
   "outputs": [
    {
     "output_type": "stream",
     "name": "stdout",
     "text": [
      "loading files now...\n",
      "loading files done!\n"
     ]
    }
   ],
   "source": [
    "print(\"loading files now...\")\n",
    "one_gram = json.load(open('one_grams_distr.json', 'r'))\n",
    "two_gram = json.load(open('two_grams_distr.json', 'r'))\n",
    "\n",
    "byte_distr = pandas.DataFrame.from_dict(one_gram)\n",
    "two_grams_dicts = pandas.DataFrame.from_dict(two_gram)\n",
    "#best_extractors = json.load(open(\"../CorrelatingExtractors/best_extractors.json\"))\n",
    "print(\"loading files done!\")"
   ]
  },
  {
   "cell_type": "code",
   "execution_count": null,
   "metadata": {},
   "outputs": [],
   "source": [
    "sc = StandardScaler()\n",
    "pca = PCA(n_components=50)\n",
    "tsne = TSNE(n_components=2)\n",
    "\n",
    "tsne_after_pca = Pipeline([\n",
    "    ('std_scaler', sc),\n",
    "    ('pca', pca),\n",
    "    ('tsne', tsne)\n",
    "])\n",
    "\n",
    "onegram_tsne = tsne_after_pca.fit_transform(total_dataset_1_gram)\n",
    "plot_extractors_against_feature_reduction(all_file_data, onegram_tsne, \"T-SNE\")"
   ]
  }
 ]
}