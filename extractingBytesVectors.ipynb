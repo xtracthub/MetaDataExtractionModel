{
 "metadata": {
  "language_info": {
   "codemirror_mode": {
    "name": "ipython",
    "version": 3
   },
   "file_extension": ".py",
   "mimetype": "text/x-python",
   "name": "python",
   "nbconvert_exporter": "python",
   "pygments_lexer": "ipython3",
   "version": "3.8.10"
  },
  "orig_nbformat": 4,
  "kernelspec": {
   "name": "python3",
   "display_name": "Python 3.8.10 64-bit"
  },
  "interpreter": {
   "hash": "e7370f93d1d0cde622a1f8e1c04877d8463912d04d973331ad4851f04de6915a"
  }
 },
 "nbformat": 4,
 "nbformat_minor": 2,
 "cells": [
  {
   "cell_type": "code",
   "execution_count": 1,
   "source": [
    "import matplotlib.pyplot as plt\n",
    "import os, pickle\n",
    "from pathlib import Path\n",
    "import numpy as np\n",
    "import time, json, sys"
   ],
   "outputs": [],
   "metadata": {}
  },
  {
   "cell_type": "markdown",
   "source": [
    "# 1 gram"
   ],
   "metadata": {}
  },
  {
   "cell_type": "code",
   "execution_count": 7,
   "source": [
    "def analyze_bytes(chunksize, rootdir):\n",
    "    mega_dict = dict()\n",
    "    start = time.time()\n",
    "    file_index = 0\n",
    "    for subdir, dirs, files in os.walk(rootdir):\n",
    "        for file_name in files:\n",
    "            filepath = os.path.abspath(os.path.join(subdir, file_name))\n",
    "            file_dict = dict()\n",
    "            f = open(filepath, \"rb\")\n",
    "            contents = f.read(chunksize)\n",
    "            contents = np.frombuffer(contents, dtype=np.uint8)\n",
    "           \n",
    "            if len(contents) < chunksize:\n",
    "                contents = np.pad(contents, (0, chunksize - len(contents)), constant_values=0)\n",
    "\n",
    "            f.close()\n",
    "\n",
    "            mega_dict[filepath] = contents\n",
    "\n",
    "            file_index += 1\n",
    "            if file_index % 2000 == 0:\n",
    "                print('done with 2000')\n",
    "    end = time.time()\n",
    "    time_elapsed = end - start\n",
    "    print(\"For chunksize: {cs} bytes Time elapsed was: {te} seconds\".format(cs=chunksize, te=time_elapsed))\n",
    "    return mega_dict"
   ],
   "outputs": [],
   "metadata": {}
  },
  {
   "cell_type": "code",
   "execution_count": 25,
   "source": [
    "mega_dict = analyze_bytes(256, '../CDIACPub8')"
   ],
   "outputs": [
    {
     "output_type": "stream",
     "name": "stdout",
     "text": [
      "done with 2000\n",
      "done with 2000\n",
      "done with 2000\n",
      "done with 2000\n",
      "done with 2000\n",
      "done with 2000\n",
      "done with 2000\n",
      "done with 2000\n",
      "done with 2000\n",
      "done with 2000\n",
      "For chunksize: 256 bytes Time elapsed was: 0.41138315200805664 seconds\n"
     ]
    }
   ],
   "metadata": {}
  },
  {
   "cell_type": "code",
   "execution_count": 11,
   "source": [
    "with open('CDIACFileData/ByteVectors/byte_vector_dict_512B.pkl', 'wb+') as handle:\n",
    "    pickle.dump(mega_dict, handle, protocol=pickle.HIGHEST_PROTOCOL)\n"
   ],
   "outputs": [],
   "metadata": {}
  },
  {
   "cell_type": "code",
   "execution_count": 71,
   "source": [
    "with open('CDIACFileData/ByteVectors/byte_vector_dict_256KB.pkl', 'rb') as handle:\n",
    "    mega_dict = pickle.load(handle)"
   ],
   "outputs": [],
   "metadata": {}
  },
  {
   "cell_type": "code",
   "execution_count": 77,
   "source": [
    "mega_array = np.array([item for item in mega_dict.values()])\n"
   ],
   "outputs": [],
   "metadata": {}
  },
  {
   "cell_type": "code",
   "execution_count": 78,
   "source": [
    "print(mega_array.shape)"
   ],
   "outputs": [
    {
     "output_type": "stream",
     "name": "stdout",
     "text": [
      "(20427, 262144)\n"
     ]
    }
   ],
   "metadata": {}
  },
  {
   "cell_type": "markdown",
   "source": [
    "# 2 - gram"
   ],
   "metadata": {}
  },
  {
   "cell_type": "code",
   "execution_count": 27,
   "source": [
    "def convert_bytes_to_two_grams(bytes_object, chunksize):\n",
    "    if len(bytes_object) == 0:\n",
    "        contents = np.zeros(chunksize - 1)\n",
    "    else:\n",
    "        contents = np.zeros(len(bytes_object) - 1, dtype=np.uint32) # number of adjacent pairs is always length - 1\n",
    "        for i in range(len(bytes_object) - 1):\n",
    "            contents[i] = bytes_object[i] * 256 + bytes_object[i+1]\n",
    "    return contents\n",
    "    \n"
   ],
   "outputs": [],
   "metadata": {}
  },
  {
   "cell_type": "code",
   "execution_count": 28,
   "source": [
    "def analyze_bytes_2grams(chunksize, rootdir):\n",
    "    mega_dict = dict()\n",
    "    start = time.time()\n",
    "    file_index = 0\n",
    "    for subdir, dirs, files in os.walk(rootdir):\n",
    "        for file_name in files:\n",
    "            filepath = os.path.abspath(os.path.join(subdir, file_name))\n",
    "            file_dict = dict()\n",
    "            f = open(filepath, \"rb\")\n",
    "            contents = f.read(chunksize)\n",
    "            contents = convert_bytes_to_two_grams(contents, chunksize)\n",
    "           \n",
    "            if len(contents) - 1 < chunksize:\n",
    "                contents = np.pad(contents, (0, chunksize - len(contents) - 1), constant_values=0)\n",
    "\n",
    "            f.close()\n",
    "\n",
    "            mega_dict[filepath] = contents\n",
    "\n",
    "            file_index += 1\n",
    "            if file_index % 2000 == 0:\n",
    "                print('done with 2000')\n",
    "\n",
    "    end = time.time()\n",
    "    time_elapsed = end - start\n",
    "    print(\"For chunksize: {cs} bytes Time elapsed was: {te} seconds\".format(cs=chunksize, te=time_elapsed))\n",
    "    return mega_dict"
   ],
   "outputs": [],
   "metadata": {}
  },
  {
   "cell_type": "code",
   "execution_count": 29,
   "source": [
    "mega_dict_2grams = analyze_bytes_2grams(10, '../CDIACPub8')"
   ],
   "outputs": [
    {
     "output_type": "stream",
     "name": "stdout",
     "text": [
      "done with 2000\n",
      "done with 2000\n",
      "done with 2000\n",
      "done with 2000\n",
      "done with 2000\n",
      "done with 2000\n",
      "done with 2000\n",
      "done with 2000\n",
      "done with 2000\n",
      "done with 2000\n",
      "For chunksize: 10 bytes Time elapsed was: 0.9835131168365479 seconds\n"
     ]
    }
   ],
   "metadata": {}
  },
  {
   "cell_type": "code",
   "execution_count": 13,
   "source": [
    "with open('CDIACFileData/ByteVectors/byte_vector_dict_512B_2grams.pkl', 'wb+') as handle:\n",
    "    pickle.dump(mega_dict_2grams, handle, protocol=pickle.HIGHEST_PROTOCOL)"
   ],
   "outputs": [],
   "metadata": {}
  },
  {
   "cell_type": "markdown",
   "source": [
    "# Fast tracking 2grams"
   ],
   "metadata": {}
  },
  {
   "cell_type": "code",
   "execution_count": 32,
   "source": [
    "byte_sizes = [1048576]\n",
    "\n",
    "for chunk_size in byte_sizes:\n",
    "\tmega_dict_2grams = analyze_bytes_2grams(chunk_size, '../CDIACPub8')\n",
    "\twith open('CDIACFileData/ByteVectors/byte_vector_dict_{s}B_2grams.pkl'.format(s=chunk_size), 'wb+') as handle:\n",
    "\t\tpickle.dump(mega_dict_2grams, handle, protocol=pickle.HIGHEST_PROTOCOL)"
   ],
   "outputs": [
    {
     "output_type": "stream",
     "name": "stdout",
     "text": [
      "done with 2000\n",
      "done with 2000\n",
      "done with 2000\n",
      "done with 2000\n",
      "done with 2000\n",
      "done with 2000\n",
      "done with 2000\n",
      "done with 2000\n",
      "done with 2000\n",
      "done with 2000\n",
      "For chunksize: 1048576 bytes Time elapsed was: 761.0494556427002 seconds\n"
     ]
    }
   ],
   "metadata": {}
  },
  {
   "cell_type": "code",
   "execution_count": 35,
   "source": [
    "for subdir, dirs, files in os.walk(\"CDIACFileData/ByteVectors/\"):\n",
    "\tfor file in files:\n",
    "\t\tfile_is_good = False\n",
    "\t\tfilepath = os.path.join(subdir, file)\n",
    "\t\twith open(filepath, \"rb\") as fp:\n",
    "\t\t\tgrams = pickle.load(fp)\n",
    "\t\t\tprint(\"Loaded\")\n",
    "\t\t\tfor key, value in grams.items():\n",
    "\t\t\t\tfor item in value:\n",
    "\t\t\t\t\tif item > 1000:\n",
    "\t\t\t\t\t\tfile_is_good = True\n",
    "\t\t\t\t\t\tbreak\n",
    "\t\t\t\tif file_is_good:\n",
    "\t\t\t\t\tbreak\n",
    "\t\tif file_is_good:\n",
    "\t\t\tprint(file, \"is good.\")\n",
    "\t\t\t\t\n"
   ],
   "outputs": [
    {
     "output_type": "error",
     "ename": "KeyboardInterrupt",
     "evalue": "",
     "traceback": [
      "\u001b[0;31m---------------------------------------------------------------------------\u001b[0m",
      "\u001b[0;31mKeyboardInterrupt\u001b[0m                         Traceback (most recent call last)",
      "\u001b[0;32m<ipython-input-35-e22330fd4e35>\u001b[0m in \u001b[0;36m<module>\u001b[0;34m\u001b[0m\n\u001b[1;32m      4\u001b[0m                 \u001b[0mfilepath\u001b[0m \u001b[0;34m=\u001b[0m \u001b[0mos\u001b[0m\u001b[0;34m.\u001b[0m\u001b[0mpath\u001b[0m\u001b[0;34m.\u001b[0m\u001b[0mjoin\u001b[0m\u001b[0;34m(\u001b[0m\u001b[0msubdir\u001b[0m\u001b[0;34m,\u001b[0m \u001b[0mfile\u001b[0m\u001b[0;34m)\u001b[0m\u001b[0;34m\u001b[0m\u001b[0;34m\u001b[0m\u001b[0m\n\u001b[1;32m      5\u001b[0m                 \u001b[0;32mwith\u001b[0m \u001b[0mopen\u001b[0m\u001b[0;34m(\u001b[0m\u001b[0mfilepath\u001b[0m\u001b[0;34m,\u001b[0m \u001b[0;34m\"rb\"\u001b[0m\u001b[0;34m)\u001b[0m \u001b[0;32mas\u001b[0m \u001b[0mfp\u001b[0m\u001b[0;34m:\u001b[0m\u001b[0;34m\u001b[0m\u001b[0;34m\u001b[0m\u001b[0m\n\u001b[0;32m----> 6\u001b[0;31m                         \u001b[0mgrams\u001b[0m \u001b[0;34m=\u001b[0m \u001b[0mpickle\u001b[0m\u001b[0;34m.\u001b[0m\u001b[0mload\u001b[0m\u001b[0;34m(\u001b[0m\u001b[0mfp\u001b[0m\u001b[0;34m)\u001b[0m\u001b[0;34m\u001b[0m\u001b[0;34m\u001b[0m\u001b[0m\n\u001b[0m\u001b[1;32m      7\u001b[0m                         \u001b[0;32mfor\u001b[0m \u001b[0mkey\u001b[0m\u001b[0;34m,\u001b[0m \u001b[0mvalue\u001b[0m \u001b[0;32min\u001b[0m \u001b[0mgrams\u001b[0m\u001b[0;34m.\u001b[0m\u001b[0mitems\u001b[0m\u001b[0;34m(\u001b[0m\u001b[0;34m)\u001b[0m\u001b[0;34m:\u001b[0m\u001b[0;34m\u001b[0m\u001b[0;34m\u001b[0m\u001b[0m\n\u001b[1;32m      8\u001b[0m                                 \u001b[0;32mfor\u001b[0m \u001b[0mitem\u001b[0m \u001b[0;32min\u001b[0m \u001b[0mvalue\u001b[0m\u001b[0;34m:\u001b[0m\u001b[0;34m\u001b[0m\u001b[0;34m\u001b[0m\u001b[0m\n",
      "\u001b[0;32m~/.local/lib/python3.8/site-packages/numpy/core/numeric.py\u001b[0m in \u001b[0;36m_frombuffer\u001b[0;34m(buf, dtype, shape, order)\u001b[0m\n\u001b[1;32m   1859\u001b[0m \u001b[0;34m\u001b[0m\u001b[0m\n\u001b[1;32m   1860\u001b[0m \u001b[0;34m\u001b[0m\u001b[0m\n\u001b[0;32m-> 1861\u001b[0;31m \u001b[0;32mdef\u001b[0m \u001b[0m_frombuffer\u001b[0m\u001b[0;34m(\u001b[0m\u001b[0mbuf\u001b[0m\u001b[0;34m,\u001b[0m \u001b[0mdtype\u001b[0m\u001b[0;34m,\u001b[0m \u001b[0mshape\u001b[0m\u001b[0;34m,\u001b[0m \u001b[0morder\u001b[0m\u001b[0;34m)\u001b[0m\u001b[0;34m:\u001b[0m\u001b[0;34m\u001b[0m\u001b[0;34m\u001b[0m\u001b[0m\n\u001b[0m\u001b[1;32m   1862\u001b[0m     \u001b[0;32mreturn\u001b[0m \u001b[0mfrombuffer\u001b[0m\u001b[0;34m(\u001b[0m\u001b[0mbuf\u001b[0m\u001b[0;34m,\u001b[0m \u001b[0mdtype\u001b[0m\u001b[0;34m=\u001b[0m\u001b[0mdtype\u001b[0m\u001b[0;34m)\u001b[0m\u001b[0;34m.\u001b[0m\u001b[0mreshape\u001b[0m\u001b[0;34m(\u001b[0m\u001b[0mshape\u001b[0m\u001b[0;34m,\u001b[0m \u001b[0morder\u001b[0m\u001b[0;34m=\u001b[0m\u001b[0morder\u001b[0m\u001b[0;34m)\u001b[0m\u001b[0;34m\u001b[0m\u001b[0;34m\u001b[0m\u001b[0m\n\u001b[1;32m   1863\u001b[0m \u001b[0;34m\u001b[0m\u001b[0m\n",
      "\u001b[0;31mKeyboardInterrupt\u001b[0m: "
     ]
    }
   ],
   "metadata": {}
  },
  {
   "cell_type": "code",
   "execution_count": null,
   "source": [],
   "outputs": [],
   "metadata": {}
  }
 ]
}